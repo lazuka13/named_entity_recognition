{
 "cells": [
  {
   "cell_type": "code",
   "execution_count": 10,
   "metadata": {
    "collapsed": true
   },
   "outputs": [],
   "source": [
    "import os\n",
    "import numpy as np\n",
    "from collections import Counter\n",
    "from sklearn.metrics import f1_score\n",
    "from sklearn.linear_model import LogisticRegression\n",
    "from sklearn.ensemble import RandomForestClassifier, GradientBoostingClassifier\n",
    "from sklearn.svm import LinearSVC\n",
    "\n",
    "from generator import Generator\n",
    "from corpus import ConllCorpusReaderX\n",
    "\n",
    "import warnings\n",
    "warnings.filterwarnings('ignore')\n",
    "\n",
    "EC_PATH = \"./bsnlp_ec.npz\"\n",
    "TRUMP_PATH = \"./bsnlp_trump.npz\"\n",
    "TRAINSET_PATH = \"./factrueval_trainset.npz\""
   ]
  },
  {
   "cell_type": "code",
   "execution_count": 11,
   "metadata": {
    "collapsed": true
   },
   "outputs": [],
   "source": [
    "trump_dataset = ConllCorpusReaderX('./bsnlp_dataset/', \n",
    "                              fileids='trump.txt', \n",
    "                              columntypes=('words', 'ne'))\n",
    "\n",
    "eu_dataset = ConllCorpusReaderX('./bsnlp_dataset/', \n",
    "                              fileids='ec.txt', \n",
    "                              columntypes=('words', 'ne'))\n",
    "\n",
    "factrueval_devset = ConllCorpusReaderX('../FactRuEval/factrueval2016_dataset/', \n",
    "                                        fileids='devset.txt', \n",
    "                                        columntypes=['words', 'offset', 'len', 'ne'])"
   ]
  },
  {
   "cell_type": "code",
   "execution_count": 12,
   "metadata": {},
   "outputs": [],
   "source": [
    "gen = Generator(column_types=['WORD'], context_len=2)\n",
    "\n",
    "Y_train = [el[1] for el in factrueval_devset.get_ne()]\n",
    "\n",
    "Y_test_eu = [el[1] for el in eu_dataset.get_ne()]\n",
    "Y_test_trump = [el[1] for el in trump_dataset.get_ne()] \n",
    "\n",
    "X_train = gen.fit_transform([[el] for el in factrueval_devset.words()], \n",
    "                            Y_train, \n",
    "                            path=TRAINSET_PATH)\n",
    "X_test_eu = gen.transform([[el] for el in eu_dataset.words()], \n",
    "                       path=EC_PATH)\n",
    "X_test_trump = gen.transform([[el] for el in trump_dataset.words()], \n",
    "                       path=TRUMP_PATH)"
   ]
  },
  {
   "cell_type": "code",
   "execution_count": 13,
   "metadata": {
    "collapsed": true
   },
   "outputs": [],
   "source": [
    "# Избавляет данные от случаев O : O #\n",
    "def clean(Y_pred, Y_test):\n",
    "    Y_pred = np.array(Y_pred)\n",
    "    Y_test = np.array(Y_test)\n",
    "\n",
    "    Y_pred_i = np.array([Y_pred != 'O'])\n",
    "    Y_test_i = np.array([Y_test != 'O'])\n",
    "\n",
    "    indexes = (Y_pred_i | Y_test_i).reshape(Y_pred.shape)\n",
    "\n",
    "    Y_pred_fixed = Y_pred[indexes]\n",
    "    Y_test_fixed = Y_test[indexes]\n",
    "    return Y_pred_fixed, Y_test_fixed\n",
    "\n",
    "def replace_y(word):\n",
    "    if word[2:] == \"Person\":\n",
    "        return word[:2] + \"PER\"\n",
    "    elif word[2:] == \"Location\":\n",
    "        return word[:2] + \"LOC\"\n",
    "    elif word[2:] == \"LocOrg\":\n",
    "        return word[:2] + \"LOC\"\n",
    "    elif word[2:] == \"Org\":\n",
    "        return word[:2] + \"ORG\"\n",
    "    elif word != \"O\":\n",
    "        return word[:2] + \"MISC\"\n",
    "    else:\n",
    "        return word"
   ]
  },
  {
   "cell_type": "code",
   "execution_count": 19,
   "metadata": {},
   "outputs": [],
   "source": [
    "def run_baseline(clf, X_test, Y_test):\n",
    "    clf.fit(X_train, Y_train)\n",
    "    Y_pred = clf.predict(X_test)\n",
    "    Y_pred = [replace_y(el) for el in Y_pred]\n",
    "    Y_pred_c, Y_test_c = clean(Y_pred, Y_test)\n",
    "\n",
    "    def get_el(el):\n",
    "        if el == \"O\":\n",
    "            return el\n",
    "        else:\n",
    "            return el[2:]\n",
    "\n",
    "    Y_pred_c_light = [get_el(el) for el in Y_pred_c]\n",
    "    Y_test_c_light = [get_el(el) for el in Y_test_c]\n",
    "\n",
    "    # Strict evaluation #\n",
    "\n",
    "    print(\"\")\n",
    "    print(\"# Strict evaluation #\")\n",
    "    counter = Counter(Y_test_c)\n",
    "    labels = list(counter.keys())\n",
    "    labels.remove(\"O\")\n",
    "    results = f1_score(Y_test_c, Y_pred_c, average=None, labels=labels)\n",
    "    for a, b in zip(labels, results):\n",
    "        print('F1 for {} == {}, with {} entities'.format(a, b, counter[a]))\n",
    "\n",
    "    print(\"Weighted Score:\", f1_score(Y_test_c, Y_pred_c, average=\"weighted\", labels=list(counter.keys())))    \n",
    "\n",
    "    # Not strict evaluation #    \n",
    "\n",
    "    print(\"\")\n",
    "    print(\"# Not strict evaluation #\")    \n",
    "    light_counter = Counter(Y_test_c_light)\n",
    "    light_labels = list(light_counter.keys())\n",
    "    light_labels.remove(\"O\")\n",
    "    print(light_counter)\n",
    "    light_results = f1_score(Y_test_c_light, Y_pred_c_light, average=None, labels=light_labels)\n",
    "    for a, b in zip(light_labels, light_results):\n",
    "        print('F1 for {} == {}, with {} entities'.format(a, b, light_counter[a]))\n",
    "\n",
    "    print(\"Weighted Score:\", f1_score(Y_test_c_light, Y_pred_c_light, average=\"weighted\", labels=light_labels))"
   ]
  },
  {
   "cell_type": "code",
   "execution_count": 20,
   "metadata": {},
   "outputs": [
    {
     "name": "stdout",
     "output_type": "stream",
     "text": [
      "\n",
      "# Strict evaluation #\n",
      "F1 for S-ORG == 0.5010989010989011, with 296 entities\n",
      "F1 for B-ORG == 0.6921348314606741, with 215 entities\n",
      "F1 for E-ORG == 0.056074766355140186, with 196 entities\n",
      "F1 for B-MISC == 0.0, with 42 entities\n",
      "F1 for E-MISC == 0.0, with 32 entities\n",
      "F1 for S-LOC == 0.48066298342541436, with 148 entities\n",
      "F1 for B-PER == 0.4878048780487805, with 25 entities\n",
      "F1 for E-PER == 0.4, with 23 entities\n",
      "F1 for S-PER == 0.033898305084745756, with 20 entities\n",
      "F1 for I-ORG == 0.12790697674418605, with 93 entities\n",
      "F1 for I-PER == 0.0, with 2 entities\n",
      "F1 for S-MISC == 0.0, with 62 entities\n",
      "F1 for I-MISC == 0.0, with 22 entities\n",
      "F1 for B-LOC == 0.6666666666666667, with 13 entities\n",
      "F1 for E-LOC == 0.3157894736842105, with 13 entities\n",
      "F1 for I-LOC == 0.0, with 1 entities\n",
      "Weighted Score: 0.297280813647\n",
      "\n",
      "# Not strict evaluation #\n",
      "Counter({'ORG': 800, 'O': 230, 'LOC': 175, 'MISC': 158, 'PER': 70})\n",
      "F1 for ORG == 0.6529492455418381, with 800 entities\n",
      "F1 for MISC == 0.0, with 158 entities\n",
      "F1 for LOC == 0.5048076923076924, with 175 entities\n",
      "F1 for PER == 0.31399317406143346, with 70 entities\n",
      "Weighted Score: 0.525918757084\n"
     ]
    }
   ],
   "source": [
    "run_baseline(LogisticRegression(), X_test_eu, Y_test_eu)"
   ]
  },
  {
   "cell_type": "code",
   "execution_count": 21,
   "metadata": {},
   "outputs": [
    {
     "name": "stdout",
     "output_type": "stream",
     "text": [
      "\n",
      "# Strict evaluation #\n",
      "F1 for S-ORG == 0.37788018433179726, with 296 entities\n",
      "F1 for B-ORG == 0.2549019607843137, with 215 entities\n",
      "F1 for E-ORG == 0.08620689655172414, with 196 entities\n",
      "F1 for B-MISC == 0.0, with 42 entities\n",
      "F1 for E-MISC == 0.0, with 32 entities\n",
      "F1 for S-LOC == 0.4143222506393861, with 148 entities\n",
      "F1 for B-PER == 0.28571428571428575, with 25 entities\n",
      "F1 for E-PER == 0.3114754098360656, with 23 entities\n",
      "F1 for S-PER == 0.0, with 20 entities\n",
      "F1 for I-ORG == 0.1717171717171717, with 93 entities\n",
      "F1 for I-PER == 0.0, with 2 entities\n",
      "F1 for S-MISC == 0.0, with 62 entities\n",
      "F1 for I-MISC == 0.0, with 22 entities\n",
      "F1 for B-LOC == 0.11764705882352941, with 13 entities\n",
      "F1 for E-LOC == 0.07999999999999999, with 13 entities\n",
      "F1 for I-LOC == 0.0, with 1 entities\n",
      "Weighted Score: 0.195164161105\n",
      "\n",
      "# Not strict evaluation #\n",
      "Counter({'ORG': 800, 'O': 220, 'LOC': 175, 'MISC': 158, 'PER': 70})\n",
      "F1 for ORG == 0.3606837606837607, with 800 entities\n",
      "F1 for MISC == 0.0, with 158 entities\n",
      "F1 for LOC == 0.33628318584070793, with 175 entities\n",
      "F1 for PER == 0.2894736842105263, with 70 entities\n",
      "Weighted Score: 0.305619055664\n"
     ]
    }
   ],
   "source": [
    "run_baseline(RandomForestClassifier(), X_test_eu, Y_test_eu)"
   ]
  },
  {
   "cell_type": "code",
   "execution_count": 22,
   "metadata": {},
   "outputs": [
    {
     "name": "stdout",
     "output_type": "stream",
     "text": [
      "\n",
      "# Strict evaluation #\n",
      "F1 for S-ORG == 0.4646017699115045, with 296 entities\n",
      "F1 for B-ORG == 0.6369168356997972, with 215 entities\n",
      "F1 for E-ORG == 0.10699588477366256, with 196 entities\n",
      "F1 for B-MISC == 0.0, with 42 entities\n",
      "F1 for E-MISC == 0.0, with 32 entities\n",
      "F1 for S-LOC == 0.5391849529780564, with 148 entities\n",
      "F1 for B-PER == 0.4938271604938272, with 25 entities\n",
      "F1 for E-PER == 0.5555555555555556, with 23 entities\n",
      "F1 for S-PER == 0.05405405405405406, with 20 entities\n",
      "F1 for I-ORG == 0.11057692307692309, with 93 entities\n",
      "F1 for I-PER == 0.0, with 2 entities\n",
      "F1 for S-MISC == 0.0, with 62 entities\n",
      "F1 for I-MISC == 0.0, with 22 entities\n",
      "F1 for B-LOC == 0.6111111111111112, with 13 entities\n",
      "F1 for E-LOC == 0.16666666666666669, with 13 entities\n",
      "F1 for I-LOC == 0.0, with 1 entities\n",
      "Weighted Score: 0.279542155636\n",
      "\n",
      "# Not strict evaluation #\n",
      "Counter({'ORG': 800, 'O': 306, 'LOC': 175, 'MISC': 158, 'PER': 70})\n",
      "F1 for ORG == 0.6683291770573566, with 800 entities\n",
      "F1 for MISC == 0.0, with 158 entities\n",
      "F1 for LOC == 0.5404040404040404, with 175 entities\n",
      "F1 for PER == 0.3595505617977528, with 70 entities\n",
      "Weighted Score: 0.543975551157\n"
     ]
    }
   ],
   "source": [
    "run_baseline(LinearSVC(), X_test_eu, Y_test_eu)"
   ]
  },
  {
   "cell_type": "code",
   "execution_count": 23,
   "metadata": {},
   "outputs": [
    {
     "name": "stdout",
     "output_type": "stream",
     "text": [
      "\n",
      "# Strict evaluation #\n",
      "F1 for S-ORG == 0.4622641509433962, with 296 entities\n",
      "F1 for B-ORG == 0.516728624535316, with 215 entities\n",
      "F1 for E-ORG == 0.09401709401709402, with 196 entities\n",
      "F1 for B-MISC == 0.0, with 42 entities\n",
      "F1 for E-MISC == 0.0, with 32 entities\n",
      "F1 for S-LOC == 0.5157232704402517, with 148 entities\n",
      "F1 for B-PER == 0.4878048780487805, with 25 entities\n",
      "F1 for E-PER == 0.3789473684210527, with 23 entities\n",
      "F1 for S-PER == 0.0, with 20 entities\n",
      "F1 for I-ORG == 0.0877742946708464, with 93 entities\n",
      "F1 for I-PER == 0.0, with 2 entities\n",
      "F1 for S-MISC == 0.0, with 62 entities\n",
      "F1 for I-MISC == 0.0, with 22 entities\n",
      "F1 for B-LOC == 0.08, with 13 entities\n",
      "F1 for E-LOC == 0.14814814814814817, with 13 entities\n",
      "F1 for I-LOC == 0.0, with 1 entities\n",
      "Weighted Score: 0.253189921731\n",
      "\n",
      "# Not strict evaluation #\n",
      "Counter({'ORG': 800, 'O': 277, 'LOC': 175, 'MISC': 158, 'PER': 70})\n",
      "F1 for ORG == 0.6653465346534653, with 800 entities\n",
      "F1 for MISC == 0.0, with 158 entities\n",
      "F1 for LOC == 0.49076517150395776, with 175 entities\n",
      "F1 for PER == 0.36134453781512604, with 70 entities\n",
      "Weighted Score: 0.534875519853\n"
     ]
    }
   ],
   "source": [
    "run_baseline(GradientBoostingClassifier(), X_test_eu, Y_test_eu)"
   ]
  },
  {
   "cell_type": "code",
   "execution_count": 24,
   "metadata": {},
   "outputs": [
    {
     "name": "stdout",
     "output_type": "stream",
     "text": [
      "\n",
      "# Strict evaluation #\n",
      "F1 for S-PER == 0.5074626865671642, with 144 entities\n",
      "F1 for B-PER == 0.8940397350993378, with 140 entities\n",
      "F1 for E-PER == 0.8214285714285714, with 119 entities\n",
      "F1 for S-LOC == 0.8405797101449275, with 126 entities\n",
      "F1 for B-LOC == 0.7317073170731707, with 22 entities\n",
      "F1 for E-LOC == 0.2285714285714286, with 22 entities\n",
      "F1 for B-ORG == 0.40740740740740744, with 31 entities\n",
      "F1 for E-ORG == 0.16666666666666666, with 31 entities\n",
      "F1 for S-MISC == 0.0, with 3 entities\n",
      "F1 for I-ORG == 0.23809523809523808, with 23 entities\n",
      "F1 for S-ORG == 0.37500000000000006, with 17 entities\n",
      "F1 for B-MISC == 0.0, with 13 entities\n",
      "F1 for I-MISC == 0.0, with 10 entities\n",
      "F1 for E-MISC == 0.0, with 13 entities\n",
      "F1 for I-PER == 0.0, with 3 entities\n",
      "F1 for I-LOC == 0.125, with 8 entities\n",
      "Weighted Score: 0.589190717447\n",
      "\n",
      "# Not strict evaluation #\n",
      "Counter({'PER': 406, 'LOC': 178, 'ORG': 102, 'O': 45, 'MISC': 39})\n",
      "F1 for PER == 0.8835443037974684, with 406 entities\n",
      "F1 for LOC == 0.8206521739130435, with 178 entities\n",
      "F1 for ORG == 0.4268292682926829, with 102 entities\n",
      "F1 for MISC == 0.0, with 39 entities\n",
      "Weighted Score: 0.756319530571\n"
     ]
    }
   ],
   "source": [
    "run_baseline(LogisticRegression(), X_test_trump, Y_test_trump)"
   ]
  },
  {
   "cell_type": "code",
   "execution_count": 25,
   "metadata": {},
   "outputs": [
    {
     "name": "stdout",
     "output_type": "stream",
     "text": [
      "\n",
      "# Strict evaluation #\n",
      "F1 for S-PER == 0.2558139534883721, with 144 entities\n",
      "F1 for B-PER == 0.847682119205298, with 140 entities\n",
      "F1 for E-PER == 0.8115942028985506, with 119 entities\n",
      "F1 for S-LOC == 0.7236842105263157, with 126 entities\n",
      "F1 for B-LOC == 0.47368421052631576, with 22 entities\n",
      "F1 for E-LOC == 0.07692307692307693, with 22 entities\n",
      "F1 for B-ORG == 0.1702127659574468, with 31 entities\n",
      "F1 for E-ORG == 0.2127659574468085, with 31 entities\n",
      "F1 for S-MISC == 0.0, with 3 entities\n",
      "F1 for I-ORG == 0.09999999999999999, with 23 entities\n",
      "F1 for S-ORG == 0.07999999999999999, with 17 entities\n",
      "F1 for B-MISC == 0.0, with 13 entities\n",
      "F1 for I-MISC == 0.0, with 10 entities\n",
      "F1 for E-MISC == 0.0, with 13 entities\n",
      "F1 for I-PER == 0.0, with 3 entities\n",
      "F1 for I-LOC == 0.0, with 8 entities\n",
      "Weighted Score: 0.485500428549\n",
      "\n",
      "# Not strict evaluation #\n",
      "Counter({'PER': 406, 'LOC': 178, 'ORG': 102, 'O': 39, 'MISC': 39})\n",
      "F1 for PER == 0.823841059602649, with 406 entities\n",
      "F1 for LOC == 0.7007672634271099, with 178 entities\n",
      "F1 for ORG == 0.2893081761006289, with 102 entities\n",
      "F1 for MISC == 0.0, with 39 entities\n",
      "Weighted Score: 0.674104106277\n"
     ]
    }
   ],
   "source": [
    "run_baseline(RandomForestClassifier(), X_test_trump, Y_test_trump)"
   ]
  },
  {
   "cell_type": "code",
   "execution_count": 26,
   "metadata": {},
   "outputs": [
    {
     "name": "stdout",
     "output_type": "stream",
     "text": [
      "\n",
      "# Strict evaluation #\n",
      "F1 for S-PER == 0.44776119402985076, with 144 entities\n",
      "F1 for B-PER == 0.8859060402684563, with 140 entities\n",
      "F1 for E-PER == 0.8172043010752688, with 119 entities\n",
      "F1 for S-LOC == 0.8351648351648353, with 126 entities\n",
      "F1 for B-LOC == 0.7058823529411765, with 22 entities\n",
      "F1 for E-LOC == 0.3157894736842105, with 22 entities\n",
      "F1 for B-ORG == 0.33333333333333337, with 31 entities\n",
      "F1 for E-ORG == 0.19047619047619047, with 31 entities\n",
      "F1 for S-MISC == 0.0, with 3 entities\n",
      "F1 for I-ORG == 0.1333333333333333, with 23 entities\n",
      "F1 for S-ORG == 0.25, with 17 entities\n",
      "F1 for B-MISC == 0.0, with 13 entities\n",
      "F1 for I-MISC == 0.0, with 10 entities\n",
      "F1 for E-MISC == 0.0, with 13 entities\n",
      "F1 for I-PER == 0.0, with 3 entities\n",
      "F1 for I-LOC == 0.0, with 8 entities\n",
      "Weighted Score: 0.55388349902\n",
      "\n",
      "# Not strict evaluation #\n",
      "Counter({'PER': 406, 'LOC': 178, 'ORG': 102, 'O': 64, 'MISC': 39})\n",
      "F1 for PER == 0.8600508905852418, with 406 entities\n",
      "F1 for LOC == 0.8052631578947369, with 178 entities\n",
      "F1 for ORG == 0.3910614525139665, with 102 entities\n",
      "F1 for MISC == 0.0, with 39 entities\n",
      "Weighted Score: 0.734352788744\n"
     ]
    }
   ],
   "source": [
    "run_baseline(LinearSVC(), X_test_trump, Y_test_trump)"
   ]
  },
  {
   "cell_type": "code",
   "execution_count": 27,
   "metadata": {},
   "outputs": [
    {
     "name": "stdout",
     "output_type": "stream",
     "text": [
      "\n",
      "# Strict evaluation #\n",
      "F1 for S-PER == 0.42105263157894735, with 144 entities\n",
      "F1 for B-PER == 0.8636363636363635, with 140 entities\n",
      "F1 for E-PER == 0.786206896551724, with 119 entities\n",
      "F1 for S-LOC == 0.7986111111111112, with 126 entities\n",
      "F1 for B-LOC == 0.6956521739130435, with 22 entities\n",
      "F1 for E-LOC == 0.23529411764705885, with 22 entities\n",
      "F1 for B-ORG == 0.2857142857142857, with 31 entities\n",
      "F1 for E-ORG == 0.06060606060606061, with 31 entities\n",
      "F1 for S-MISC == 0.0, with 3 entities\n",
      "F1 for I-ORG == 0.05405405405405405, with 23 entities\n",
      "F1 for S-ORG == 0.21428571428571427, with 17 entities\n",
      "F1 for B-MISC == 0.0, with 13 entities\n",
      "F1 for I-MISC == 0.0, with 10 entities\n",
      "F1 for E-MISC == 0.0, with 13 entities\n",
      "F1 for I-PER == 0.0, with 3 entities\n",
      "F1 for I-LOC == 0.0, with 8 entities\n",
      "Weighted Score: 0.530022059308\n",
      "\n",
      "# Not strict evaluation #\n",
      "Counter({'PER': 406, 'LOC': 178, 'ORG': 102, 'O': 52, 'MISC': 39})\n",
      "F1 for PER == 0.8406524466750314, with 406 entities\n",
      "F1 for LOC == 0.7823834196891191, with 178 entities\n",
      "F1 for ORG == 0.28571428571428564, with 102 entities\n",
      "F1 for MISC == 0.0, with 39 entities\n",
      "Weighted Score: 0.703051033376\n"
     ]
    }
   ],
   "source": [
    "run_baseline(GradientBoostingClassifier(), X_test_trump, Y_test_trump)"
   ]
  }
 ],
 "metadata": {
  "kernelspec": {
   "display_name": "Python 3",
   "language": "python",
   "name": "python3"
  },
  "language_info": {
   "codemirror_mode": {
    "name": "ipython",
    "version": 3
   },
   "file_extension": ".py",
   "mimetype": "text/x-python",
   "name": "python",
   "nbconvert_exporter": "python",
   "pygments_lexer": "ipython3",
   "version": "3.6.1"
  }
 },
 "nbformat": 4,
 "nbformat_minor": 2
}
