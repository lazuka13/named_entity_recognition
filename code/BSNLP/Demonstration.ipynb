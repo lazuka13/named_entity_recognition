{
 "cells": [
  {
   "cell_type": "code",
   "execution_count": 4,
   "metadata": {
    "collapsed": true
   },
   "outputs": [],
   "source": [
    "from corpus import ConllCorpusReaderX"
   ]
  },
  {
   "cell_type": "code",
   "execution_count": 5,
   "metadata": {},
   "outputs": [],
   "source": [
    "trump_dataset = ConllCorpusReaderX('./bsnlp_dataset/', \n",
    "                              fileids='trump.txt', \n",
    "                              columntypes=('words', 'ne'))"
   ]
  },
  {
   "cell_type": "code",
   "execution_count": 6,
   "metadata": {},
   "outputs": [],
   "source": [
    "eu_dataset = ConllCorpusReaderX('./bsnlp_dataset/', \n",
    "                              fileids='eu.txt', \n",
    "                              columntypes=('words', 'ne'))"
   ]
  },
  {
   "cell_type": "code",
   "execution_count": 7,
   "metadata": {},
   "outputs": [
    {
     "name": "stdout",
     "output_type": "stream",
     "text": [
      "[('Трамп', 'S-PER'), ('разошелся', 'O'), ('во', 'O'), ('мнении', 'O'), ('с', 'O'), ('Мишель', 'B-PER'), ('Обамой', 'E-PER'), ('о', 'O'), ('судьбе', 'O'), ('США', 'S-LOC')]\n"
     ]
    }
   ],
   "source": [
    "print(trump_dataset.get_ne()[:10])"
   ]
  },
  {
   "cell_type": "code",
   "execution_count": 8,
   "metadata": {},
   "outputs": [
    {
     "name": "stdout",
     "output_type": "stream",
     "text": [
      "['Трамп', 'разошелся', 'во', 'мнении', 'с', 'Мишель', ...]\n",
      "5474\n"
     ]
    }
   ],
   "source": [
    "print(trump_dataset.words())\n",
    "print(len(trump_dataset.words()))"
   ]
  }
 ],
 "metadata": {
  "kernelspec": {
   "display_name": "Python 3",
   "language": "python",
   "name": "python3"
  },
  "language_info": {
   "codemirror_mode": {
    "name": "ipython",
    "version": 3
   },
   "file_extension": ".py",
   "mimetype": "text/x-python",
   "name": "python",
   "nbconvert_exporter": "python",
   "pygments_lexer": "ipython3",
   "version": "3.6.1"
  }
 },
 "nbformat": 4,
 "nbformat_minor": 2
}
