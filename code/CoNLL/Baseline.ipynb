{
 "cells": [
  {
   "cell_type": "code",
   "execution_count": 22,
   "metadata": {
    "collapsed": true
   },
   "outputs": [],
   "source": [
    "import os\n",
    "import numpy as np\n",
    "from collections import Counter\n",
    "from sklearn.metrics import f1_score\n",
    "from sklearn.linear_model import LogisticRegression\n",
    "from sklearn.ensemble import RandomForestClassifier, GradientBoostingClassifier\n",
    "from sklearn.svm import LinearSVC\n",
    "\n",
    "from generator import Generator\n",
    "from corpus import ConllCorpusReaderX\n",
    "\n",
    "import warnings\n",
    "warnings.filterwarnings('ignore')\n",
    "\n",
    "TRAINSET_PATH = \"./conll_trainset.npz\"\n",
    "TESTSETA_PATH = \"./conll_testseta.npz\"\n",
    "TESTSETB_PATH = \"./conll_testsetb.npz\""
   ]
  },
  {
   "cell_type": "code",
   "execution_count": 23,
   "metadata": {
    "collapsed": true
   },
   "outputs": [],
   "source": [
    "conll_trainset = ConllCorpusReaderX('./conll2003_dataset', \n",
    "                              fileids='eng.train.txt', \n",
    "                              columntypes=('words', 'pos', 'chunk', 'ne'))\n",
    "\n",
    "conll_testseta = ConllCorpusReaderX('./conll2003_dataset', \n",
    "                              fileids='eng.testa.dev.txt', \n",
    "                              columntypes=('words', 'pos', 'chunk', 'ne'))\n",
    "\n",
    "conll_testsetb = ConllCorpusReaderX('./conll2003_dataset', \n",
    "                              fileids='eng.testb.test.txt', \n",
    "                              columntypes=('words', 'pos', 'chunk', 'ne'))"
   ]
  },
  {
   "cell_type": "code",
   "execution_count": 28,
   "metadata": {
    "collapsed": true
   },
   "outputs": [],
   "source": [
    "gen = Generator(column_types=['WORD', 'POS', 'CHUNK'], context_len=2, language='en')\n",
    "\n",
    "Y_train = [el[1] for el in conll_trainset.get_ne()]\n",
    "Y_testa = [el[1] for el in conll_testseta.get_ne()] \n",
    "Y_testb = [el[1] for el in conll_testsetb.get_ne()] \n",
    "\n",
    "X_train = gen.fit_transform(conll_trainset.get_tags(tags=['words', 'pos', 'chunk']), \n",
    "                            Y_train, \n",
    "                            path=TRAINSET_PATH)\n",
    "X_testa = gen.transform(conll_testseta.get_tags(tags=['words', 'pos', 'chunk']), \n",
    "                        path=TESTSETA_PATH)\n",
    "X_testb = gen.transform(conll_testsetb.get_tags(tags=['words', 'pos', 'chunk']), \n",
    "                        path=TESTSETB_PATH)"
   ]
  },
  {
   "cell_type": "code",
   "execution_count": 29,
   "metadata": {
    "collapsed": true
   },
   "outputs": [],
   "source": [
    "# Избавляет данные от случаев O : O #\n",
    "def clean(Y_pred, Y_test):\n",
    "    Y_pred = np.array(Y_pred)\n",
    "    Y_test = np.array(Y_test)\n",
    "\n",
    "    Y_pred_i = np.array([Y_pred != 'O'])\n",
    "    Y_test_i = np.array([Y_test != 'O'])\n",
    "\n",
    "    indexes = (Y_pred_i | Y_test_i).reshape(Y_pred.shape)\n",
    "\n",
    "    Y_pred_fixed = Y_pred[indexes]\n",
    "    Y_test_fixed = Y_test[indexes]\n",
    "    return Y_pred_fixed, Y_test_fixed"
   ]
  },
  {
   "cell_type": "code",
   "execution_count": 31,
   "metadata": {
    "collapsed": true
   },
   "outputs": [],
   "source": [
    "def run_baseline(clf=LogisticRegression()):\n",
    "    clf.fit(X_train, Y_train)\n",
    "    Y_pred = clf.predict(X_testa)\n",
    "    Y_pred_c, Y_test_c = clean(Y_pred, Y_testa)\n",
    "\n",
    "    def get_el(el):\n",
    "        if el == \"O\":\n",
    "            return el\n",
    "        else:\n",
    "            return el[2:]\n",
    "\n",
    "    Y_pred_c_light = [get_el(el) for el in Y_pred_c]\n",
    "    Y_test_c_light = [get_el(el) for el in Y_test_c]\n",
    "\n",
    "    # Strict evaluation #\n",
    "\n",
    "    print(\"\")\n",
    "    print(\"# Strict evaluation #\")\n",
    "    counter = Counter(Y_test_c)\n",
    "    labels = list(counter.keys())\n",
    "    labels.remove(\"O\")\n",
    "    results = f1_score(Y_test_c, Y_pred_c, average=None, labels=labels)\n",
    "    for a, b in zip(labels, results):\n",
    "        print('F1 for {} == {}, with {} entities'.format(a, b, counter[a]))\n",
    "\n",
    "    print(\"Weighted Score:\", f1_score(Y_test_c, Y_pred_c, average=\"weighted\", labels=list(counter.keys())))    \n",
    "\n",
    "    # Not strict evaluation #    \n",
    "\n",
    "    print(\"\")\n",
    "    print(\"# Not strict evaluation #\")    \n",
    "    light_counter = Counter(Y_test_c_light)\n",
    "    light_labels = list(light_counter.keys())\n",
    "    light_labels.remove(\"O\")\n",
    "    print(light_counter)\n",
    "    light_results = f1_score(Y_test_c_light, Y_pred_c_light, average=None, labels=light_labels)\n",
    "    for a, b in zip(light_labels, light_results):\n",
    "        print('F1 for {} == {}, with {} entities'.format(a, b, light_counter[a]))\n",
    "\n",
    "    print(\"Weighted Score:\", f1_score(Y_test_c_light, Y_pred_c_light, average=\"weighted\", labels=light_labels))"
   ]
  },
  {
   "cell_type": "code",
   "execution_count": 32,
   "metadata": {},
   "outputs": [
    {
     "name": "stdout",
     "output_type": "stream",
     "text": [
      "\n",
      "# Strict evaluation #\n",
      "F1 for S-ORG == 0.7553699284009546, with 891 entities\n",
      "F1 for S-LOC == 0.8162111215834119, with 1603 entities\n",
      "F1 for B-MISC == 0.6466512702078522, with 257 entities\n",
      "F1 for E-MISC == 0.7616926503340757, with 257 entities\n",
      "F1 for B-PER == 0.920610089949159, with 1234 entities\n",
      "F1 for E-PER == 0.9185820023373589, with 1234 entities\n",
      "F1 for B-LOC == 0.7916666666666666, with 234 entities\n",
      "F1 for E-LOC == 0.7954545454545455, with 234 entities\n",
      "F1 for S-PER == 0.6935749588138386, with 608 entities\n",
      "F1 for S-MISC == 0.8160000000000001, with 665 entities\n",
      "F1 for I-MISC == 0.421875, with 89 entities\n",
      "F1 for B-ORG == 0.7111111111111111, with 450 entities\n",
      "F1 for I-ORG == 0.6833631484794276, with 301 entities\n",
      "F1 for E-ORG == 0.7298245614035088, with 450 entities\n",
      "F1 for I-PER == 0.5391304347826087, with 73 entities\n",
      "F1 for I-LOC == 0.4666666666666667, with 23 entities\n",
      "Weighted Score: 0.78264408139\n",
      "\n",
      "# Not strict evaluation #\n",
      "Counter({'PER': 3149, 'LOC': 2094, 'ORG': 2092, 'MISC': 1268, 'O': 201})\n",
      "F1 for ORG == 0.7609022556390977, with 2092 entities\n",
      "F1 for LOC == 0.820563035495716, with 2094 entities\n",
      "F1 for MISC == 0.7876106194690267, with 1268 entities\n",
      "F1 for PER == 0.8885789555245623, with 3149 entities\n",
      "Weighted Score: 0.826094607876\n"
     ]
    }
   ],
   "source": [
    "run_baseline()"
   ]
  },
  {
   "cell_type": "code",
   "execution_count": 33,
   "metadata": {},
   "outputs": [
    {
     "name": "stdout",
     "output_type": "stream",
     "text": [
      "\n",
      "# Strict evaluation #\n",
      "F1 for S-ORG == 0.7048883524441764, with 891 entities\n",
      "F1 for S-LOC == 0.7398039835599115, with 1603 entities\n",
      "F1 for B-MISC == 0.6173913043478261, with 257 entities\n",
      "F1 for E-MISC == 0.6129753914988815, with 257 entities\n",
      "F1 for B-PER == 0.879905808477237, with 1234 entities\n",
      "F1 for E-PER == 0.8921259842519684, with 1234 entities\n",
      "F1 for B-LOC == 0.6375, with 234 entities\n",
      "F1 for E-LOC == 0.6393088552915767, with 234 entities\n",
      "F1 for S-PER == 0.5898366606170599, with 608 entities\n",
      "F1 for S-MISC == 0.7011007620660458, with 665 entities\n",
      "F1 for I-MISC == 0.42857142857142855, with 89 entities\n",
      "F1 for B-ORG == 0.6206896551724138, with 450 entities\n",
      "F1 for I-ORG == 0.6392523364485981, with 301 entities\n",
      "F1 for E-ORG == 0.6022727272727273, with 450 entities\n",
      "F1 for I-PER == 0.5043478260869564, with 73 entities\n",
      "F1 for I-LOC == 0.3684210526315789, with 23 entities\n",
      "Weighted Score: 0.705466701264\n",
      "\n",
      "# Not strict evaluation #\n",
      "Counter({'PER': 3149, 'LOC': 2094, 'ORG': 2092, 'MISC': 1268, 'O': 280})\n",
      "F1 for ORG == 0.6768138001014713, with 2092 entities\n",
      "F1 for LOC == 0.7253861003861004, with 2094 entities\n",
      "F1 for MISC == 0.6822262118491921, with 1268 entities\n",
      "F1 for PER == 0.8491673275178431, with 3149 entities\n",
      "Weighted Score: 0.752521645356\n"
     ]
    }
   ],
   "source": [
    "run_baseline(RandomForestClassifier())"
   ]
  },
  {
   "cell_type": "code",
   "execution_count": 34,
   "metadata": {},
   "outputs": [
    {
     "name": "stdout",
     "output_type": "stream",
     "text": [
      "\n",
      "# Strict evaluation #\n",
      "F1 for S-ORG == 0.7624113475177304, with 891 entities\n",
      "F1 for S-LOC == 0.8194001276324185, with 1603 entities\n",
      "F1 for B-MISC == 0.6741071428571429, with 257 entities\n",
      "F1 for E-MISC == 0.791578947368421, with 257 entities\n",
      "F1 for B-PER == 0.9275590551181103, with 1234 entities\n",
      "F1 for E-PER == 0.9221698113207548, with 1234 entities\n",
      "F1 for B-LOC == 0.8044943820224718, with 234 entities\n",
      "F1 for E-LOC == 0.8009049773755655, with 234 entities\n",
      "F1 for S-PER == 0.6816720257234726, with 608 entities\n",
      "F1 for S-MISC == 0.81629392971246, with 665 entities\n",
      "F1 for I-MISC == 0.481203007518797, with 89 entities\n",
      "F1 for B-ORG == 0.735527809307605, with 450 entities\n",
      "F1 for I-ORG == 0.7063063063063063, with 301 entities\n",
      "F1 for E-ORG == 0.7417519908987485, with 450 entities\n",
      "F1 for I-PER == 0.6507936507936508, with 73 entities\n",
      "F1 for I-LOC == 0.5555555555555555, with 23 entities\n",
      "Weighted Score: 0.791084163186\n",
      "\n",
      "# Not strict evaluation #\n",
      "Counter({'PER': 3149, 'LOC': 2094, 'ORG': 2092, 'MISC': 1268, 'O': 202})\n",
      "F1 for ORG == 0.7771400049912652, with 2092 entities\n",
      "F1 for LOC == 0.8237614000492975, with 2094 entities\n",
      "F1 for MISC == 0.7998266897746967, with 1268 entities\n",
      "F1 for PER == 0.8878215060427642, with 3149 entities\n",
      "Weighted Score: 0.832344929363\n"
     ]
    }
   ],
   "source": [
    "run_baseline(LinearSVC())"
   ]
  },
  {
   "cell_type": "code",
   "execution_count": 35,
   "metadata": {},
   "outputs": [
    {
     "name": "stdout",
     "output_type": "stream",
     "text": [
      "\n",
      "# Strict evaluation #\n",
      "F1 for S-ORG == 0.6918325326012353, with 891 entities\n",
      "F1 for S-LOC == 0.7091475502690456, with 1603 entities\n",
      "F1 for B-MISC == 0.6338028169014085, with 257 entities\n",
      "F1 for E-MISC == 0.7280898876404495, with 257 entities\n",
      "F1 for B-PER == 0.870026525198939, with 1234 entities\n",
      "F1 for E-PER == 0.8664122137404581, with 1234 entities\n",
      "F1 for B-LOC == 0.7598039215686273, with 234 entities\n",
      "F1 for E-LOC == 0.7707317073170732, with 234 entities\n",
      "F1 for S-PER == 0.5297418630751964, with 608 entities\n",
      "F1 for S-MISC == 0.763877381938691, with 665 entities\n",
      "F1 for I-MISC == 0.3728813559322034, with 89 entities\n",
      "F1 for B-ORG == 0.5977859778597786, with 450 entities\n",
      "F1 for I-ORG == 0.615678776290631, with 301 entities\n",
      "F1 for E-ORG == 0.612137203166227, with 450 entities\n",
      "F1 for I-PER == 0.543859649122807, with 73 entities\n",
      "F1 for I-LOC == 0.5142857142857143, with 23 entities\n",
      "Weighted Score: 0.706862725912\n",
      "\n",
      "# Not strict evaluation #\n",
      "Counter({'PER': 3149, 'LOC': 2094, 'ORG': 2092, 'MISC': 1268, 'O': 237})\n",
      "F1 for ORG == 0.6775556181357365, with 2092 entities\n",
      "F1 for LOC == 0.7294708029197082, with 2094 entities\n",
      "F1 for MISC == 0.7486338797814207, with 1268 entities\n",
      "F1 for PER == 0.8349297573435505, with 3149 entities\n",
      "Weighted Score: 0.758272669986\n"
     ]
    }
   ],
   "source": [
    "run_baseline(GradientBoostingClassifier())"
   ]
  }
 ],
 "metadata": {
  "kernelspec": {
   "display_name": "Python 3",
   "language": "python",
   "name": "python3"
  },
  "language_info": {
   "codemirror_mode": {
    "name": "ipython",
    "version": 3
   },
   "file_extension": ".py",
   "mimetype": "text/x-python",
   "name": "python",
   "nbconvert_exporter": "python",
   "pygments_lexer": "ipython3",
   "version": "3.6.1"
  }
 },
 "nbformat": 4,
 "nbformat_minor": 2
}
