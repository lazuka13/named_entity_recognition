{
 "cells": [
  {
   "cell_type": "code",
   "execution_count": 24,
   "metadata": {
    "collapsed": true
   },
   "outputs": [],
   "source": [
    "from corpus import ConllCorpusReaderX"
   ]
  },
  {
   "cell_type": "code",
   "execution_count": 25,
   "metadata": {
    "collapsed": true
   },
   "outputs": [],
   "source": [
    "conll2003_train = ConllCorpusReaderX('./conll2003_dataset', \n",
    "                              fileids='eng.train.txt', \n",
    "                              columntypes=('words', 'pos', 'chunk', 'ne'))\n",
    "\n",
    "conll2003_testa = ConllCorpusReaderX('./conll2003_dataset', \n",
    "                              fileids='eng.testa.dev.txt', \n",
    "                              columntypes=('words', 'pos', 'chunk', 'ne'))\n",
    "\n",
    "conll2003_testb = ConllCorpusReaderX('./conll2003_dataset', \n",
    "                              fileids='eng.testb.test.txt', \n",
    "                              columntypes=('words', 'pos', 'chunk', 'ne'))"
   ]
  },
  {
   "cell_type": "code",
   "execution_count": 26,
   "metadata": {},
   "outputs": [
    {
     "data": {
      "text/plain": [
       "[[], ['EU', 'rejects', 'German', 'call', 'to', 'boycott', 'British', 'lamb', '.'], ...]"
      ]
     },
     "execution_count": 26,
     "metadata": {},
     "output_type": "execute_result"
    }
   ],
   "source": [
    "conll2003_train.sents()"
   ]
  },
  {
   "cell_type": "code",
   "execution_count": 27,
   "metadata": {},
   "outputs": [
    {
     "data": {
      "text/plain": [
       "['EU', 'rejects', 'German', 'call', 'to', 'boycott', ...]"
      ]
     },
     "execution_count": 27,
     "metadata": {},
     "output_type": "execute_result"
    }
   ],
   "source": [
    "conll2003_train.words()"
   ]
  },
  {
   "cell_type": "code",
   "execution_count": 28,
   "metadata": {},
   "outputs": [
    {
     "data": {
      "text/plain": [
       "[('EU', 'S-ORG'), ('rejects', 'O'), ...]"
      ]
     },
     "execution_count": 28,
     "metadata": {},
     "output_type": "execute_result"
    }
   ],
   "source": [
    "conll2003_train.get_tags(tags=[\"words\", \"ne\"])"
   ]
  },
  {
   "cell_type": "code",
   "execution_count": 29,
   "metadata": {},
   "outputs": [
    {
     "name": "stdout",
     "output_type": "stream",
     "text": [
      "203621\n"
     ]
    }
   ],
   "source": [
    "print(len(conll2003_train.words()))"
   ]
  },
  {
   "cell_type": "code",
   "execution_count": 30,
   "metadata": {
    "collapsed": true
   },
   "outputs": [],
   "source": [
    "import numpy as np\n",
    "from generator import Generator\n",
    "\n",
    "words = [[*el] for el in conll2003_train.get_tags(tags=['words', 'pos', 'chunk'])[:4000]]\n",
    "gen = Generator(column_types=['word', 'pos', 'chunk'], context_len=2)\n",
    "X = gen.generate(words, path='./conll2003_train.npy')\n",
    "y = np.array([el[1] for el in conll2003_train.get_ne()[:4000]])"
   ]
  },
  {
   "cell_type": "code",
   "execution_count": 31,
   "metadata": {
    "collapsed": true
   },
   "outputs": [],
   "source": [
    "from sklearn.linear_model import LogisticRegression\n",
    "clf = LogisticRegression()"
   ]
  },
  {
   "cell_type": "code",
   "execution_count": 32,
   "metadata": {
    "collapsed": true
   },
   "outputs": [],
   "source": [
    "clf.fit(X[:3000], y[:3000])\n",
    "y_pred = clf.predict(X[3000:4000])"
   ]
  },
  {
   "cell_type": "code",
   "execution_count": 33,
   "metadata": {
    "collapsed": true,
    "scrolled": true
   },
   "outputs": [],
   "source": [
    "from sklearn.metrics import f1_score\n",
    "\n",
    "y_pred = np.array(y_pred)\n",
    "y_true = np.array(y[3000:4000])\n",
    "\n",
    "y_pred_i = np.array([y_pred != 'O'])\n",
    "y_true_i = np.array([y_true != 'O'])\n",
    "\n",
    "ind = (y_pred_i | y_true_i).reshape(y_pred.shape)\n",
    "\n",
    "y_pred_fixed = y_pred[ind]\n",
    "y_true_fixed = y_true[ind]"
   ]
  },
  {
   "cell_type": "code",
   "execution_count": 35,
   "metadata": {
    "collapsed": true
   },
   "outputs": [],
   "source": [
    "def get_el(el):\n",
    "    if el == \"O\":\n",
    "        return el\n",
    "    else:\n",
    "        return el[2:]\n",
    "    \n",
    "y_pred_fixed = [get_el(el) for el in y_pred_fixed]\n",
    "y_true_fixed = [get_el(el) for el in y_true_fixed]"
   ]
  },
  {
   "cell_type": "code",
   "execution_count": 39,
   "metadata": {},
   "outputs": [
    {
     "name": "stdout",
     "output_type": "stream",
     "text": [
      "0.600130936582\n"
     ]
    }
   ],
   "source": [
    "print(f1_score(y_true_fixed, y_pred_fixed, average=\"weighted\", labels=[\"PER\", \"LOC\", \"MISC\", \"ORG\"]))"
   ]
  },
  {
   "cell_type": "code",
   "execution_count": 45,
   "metadata": {},
   "outputs": [
    {
     "name": "stdout",
     "output_type": "stream",
     "text": [
      "[ 0.65384615  0.74452555  0.18181818  0.625     ]\n",
      "Counter({'LOC': 61, 'MISC': 27, 'ORG': 26, 'PER': 26, 'O': 17})\n"
     ]
    }
   ],
   "source": [
    "print(f1_score(y_true_fixed, y_pred_fixed, average=None, labels=[\"PER\", \"LOC\", \"ORG\", \"MISC\"]))\n",
    "from collections import Counter\n",
    "print(Counter(y_true_fixed))"
   ]
  },
  {
   "cell_type": "code",
   "execution_count": 42,
   "metadata": {},
   "outputs": [
    {
     "name": "stdout",
     "output_type": "stream",
     "text": [
      "('O', 'S-LOC')\n",
      "('S-LOC', 'S-LOC')\n",
      "('O', 'B-MISC')\n",
      "('S-MISC', 'E-MISC')\n",
      "('S-MISC', 'S-MISC')\n",
      "('S-LOC', 'S-LOC')\n",
      "('S-LOC', 'S-LOC')\n",
      "('S-LOC', 'O')\n",
      "('S-MISC', 'S-MISC')\n",
      "('S-LOC', 'S-LOC')\n"
     ]
    }
   ],
   "source": [
    "from itertools import islice\n",
    "for el in islice(((a, b) for a, b in zip(y_pred, y[3000:4000]) if a != 'O' or b != 'O'), 10):\n",
    "    print(el)"
   ]
  }
 ],
 "metadata": {
  "kernelspec": {
   "display_name": "Python 3",
   "language": "python",
   "name": "python3"
  },
  "language_info": {
   "codemirror_mode": {
    "name": "ipython",
    "version": 3
   },
   "file_extension": ".py",
   "mimetype": "text/x-python",
   "name": "python",
   "nbconvert_exporter": "python",
   "pygments_lexer": "ipython3",
   "version": "3.6.1"
  }
 },
 "nbformat": 4,
 "nbformat_minor": 2
}
