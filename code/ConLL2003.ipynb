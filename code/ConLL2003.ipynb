{
 "cells": [
  {
   "cell_type": "code",
   "execution_count": 1,
   "metadata": {
    "collapsed": true
   },
   "outputs": [],
   "source": [
    "from corpus import ConllCorpusReaderX"
   ]
  },
  {
   "cell_type": "code",
   "execution_count": 2,
   "metadata": {
    "collapsed": true
   },
   "outputs": [],
   "source": [
    "conll2003_train = ConllCorpusReaderX('./conll2003_dataset', \n",
    "                              fileids='eng.train.txt', \n",
    "                              columntypes=('words', 'pos', 'chunk', 'ne'))\n",
    "\n",
    "conll2003_testa = ConllCorpusReaderX('./conll2003_dataset', \n",
    "                              fileids='eng.testa.dev.txt', \n",
    "                              columntypes=('words', 'pos', 'chunk', 'ne'))\n",
    "\n",
    "conll2003_testb = ConllCorpusReaderX('./conll2003_dataset', \n",
    "                              fileids='eng.testb.test.txt', \n",
    "                              columntypes=('words', 'pos', 'chunk', 'ne'))"
   ]
  },
  {
   "cell_type": "code",
   "execution_count": 3,
   "metadata": {},
   "outputs": [
    {
     "data": {
      "text/plain": [
       "[[], ['EU', 'rejects', 'German', 'call', 'to', 'boycott', 'British', 'lamb', '.'], ...]"
      ]
     },
     "execution_count": 3,
     "metadata": {},
     "output_type": "execute_result"
    }
   ],
   "source": [
    "conll2003_train.sents()"
   ]
  },
  {
   "cell_type": "code",
   "execution_count": 4,
   "metadata": {},
   "outputs": [
    {
     "data": {
      "text/plain": [
       "['EU', 'rejects', 'German', 'call', 'to', 'boycott', ...]"
      ]
     },
     "execution_count": 4,
     "metadata": {},
     "output_type": "execute_result"
    }
   ],
   "source": [
    "conll2003_train.words()"
   ]
  },
  {
   "cell_type": "code",
   "execution_count": 5,
   "metadata": {},
   "outputs": [
    {
     "data": {
      "text/plain": [
       "[('EU', 'S-ORG'), ('rejects', 'O'), ...]"
      ]
     },
     "execution_count": 5,
     "metadata": {},
     "output_type": "execute_result"
    }
   ],
   "source": [
    "conll2003_train.get_tags(tags=[\"words\", \"ne\"])"
   ]
  },
  {
   "cell_type": "code",
   "execution_count": 6,
   "metadata": {},
   "outputs": [
    {
     "name": "stdout",
     "output_type": "stream",
     "text": [
      "203621\n"
     ]
    }
   ],
   "source": [
    "print(len(conll2003_train.words()))"
   ]
  },
  {
   "cell_type": "code",
   "execution_count": 7,
   "metadata": {
    "collapsed": true
   },
   "outputs": [],
   "source": [
    "import numpy as np\n",
    "from generator import Generator\n",
    "\n",
    "words = [[*el] for el in conll2003_train.get_tags(tags=['words', 'pos', 'chunk'])[:4000]]\n",
    "gen = Generator(column_types=['word', 'pos', 'chunk'], context_len=2)\n",
    "X = gen.generate(words, path='./conll2003_train.npy')\n",
    "y = np.array([el[1] for el in conll2003_train.get_ne()[:4000]])"
   ]
  },
  {
   "cell_type": "code",
   "execution_count": 8,
   "metadata": {
    "collapsed": true
   },
   "outputs": [],
   "source": [
    "from sklearn.linear_model import LogisticRegression\n",
    "clf = LogisticRegression()"
   ]
  },
  {
   "cell_type": "code",
   "execution_count": 9,
   "metadata": {
    "collapsed": true
   },
   "outputs": [],
   "source": [
    "clf.fit(X[:3000], y[:3000])\n",
    "y_pred = clf.predict(X[3000:4000])"
   ]
  },
  {
   "cell_type": "code",
   "execution_count": 10,
   "metadata": {},
   "outputs": [
    {
     "name": "stdout",
     "output_type": "stream",
     "text": [
      "0.5925925925925927\n"
     ]
    }
   ],
   "source": [
    "right = 0\n",
    "total_a = 0\n",
    "total_b = 0\n",
    "for a, b in zip(y_pred, y[3000:4000]):\n",
    "    if a != 'O':\n",
    "        total_a += 1\n",
    "    if b != 'O':\n",
    "        total_b += 1    \n",
    "    if a != 'O' and a == b:\n",
    "        right += 1\n",
    "accuracy = right/total_a\n",
    "recall = right/total_b\n",
    "f = 2 * accuracy * recall /(accuracy + recall)\n",
    "print(f)"
   ]
  },
  {
   "cell_type": "code",
   "execution_count": 11,
   "metadata": {},
   "outputs": [
    {
     "name": "stdout",
     "output_type": "stream",
     "text": [
      "O S-LOC\n",
      "S-LOC S-LOC\n",
      "O B-MISC\n",
      "S-MISC E-MISC\n",
      "S-MISC S-MISC\n",
      "S-LOC S-LOC\n",
      "S-LOC S-LOC\n",
      "S-LOC O\n",
      "S-MISC S-MISC\n",
      "S-LOC S-LOC\n",
      "S-LOC S-LOC\n",
      "S-LOC S-LOC\n",
      "B-LOC B-ORG\n",
      "I-ORG I-ORG\n",
      "E-PER E-ORG\n",
      "S-LOC O\n",
      "S-LOC S-LOC\n",
      "S-MISC S-MISC\n",
      "O S-LOC\n",
      "O S-LOC\n",
      "O S-LOC\n",
      "S-LOC S-MISC\n",
      "S-LOC S-LOC\n",
      "B-PER B-PER\n",
      "E-PER E-PER\n",
      "S-PER S-MISC\n",
      "B-LOC B-LOC\n",
      "E-LOC E-LOC\n",
      "E-PER S-MISC\n",
      "S-MISC S-ORG\n"
     ]
    }
   ],
   "source": [
    "i = 0\n",
    "for a, b in zip(y_pred, y[3000:4000]):\n",
    "    if a == 'O' and b == 'O':\n",
    "        continue\n",
    "    print(a, b)\n",
    "    i += 1\n",
    "    if i == 30:\n",
    "        break"
   ]
  }
 ],
 "metadata": {
  "kernelspec": {
   "display_name": "Python 3",
   "language": "python",
   "name": "python3"
  },
  "language_info": {
   "codemirror_mode": {
    "name": "ipython",
    "version": 3
   },
   "file_extension": ".py",
   "mimetype": "text/x-python",
   "name": "python",
   "nbconvert_exporter": "python",
   "pygments_lexer": "ipython3",
   "version": "3.6.1"
  }
 },
 "nbformat": 4,
 "nbformat_minor": 2
}
