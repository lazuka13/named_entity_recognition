{
 "cells": [
  {
   "cell_type": "code",
   "execution_count": 38,
   "metadata": {
    "collapsed": true
   },
   "outputs": [],
   "source": [
    "import os\n",
    "import numpy as np\n",
    "from collections import Counter\n",
    "from sklearn.metrics import f1_score\n",
    "from sklearn.linear_model import LogisticRegression\n",
    "from sklearn.ensemble import RandomForestClassifier, GradientBoostingClassifier\n",
    "from sklearn.svm import LinearSVC\n",
    "\n",
    "from generator import Generator\n",
    "from corpus import ConllCorpusReaderX\n",
    "\n",
    "import warnings\n",
    "warnings.filterwarnings('ignore')\n",
    "\n",
    "TRAINSET_PATH = \"./factrueval_trainset.npz\"\n",
    "TESTSET_PATH = \"./factrueval_testset.npz\""
   ]
  },
  {
   "cell_type": "code",
   "execution_count": 39,
   "metadata": {
    "collapsed": true
   },
   "outputs": [],
   "source": [
    "factrueval_devset = ConllCorpusReaderX('./factrueval2016_dataset/',\n",
    "                                       fileids='devset.txt', \n",
    "                                       columntypes=['words', 'offset', 'len', 'ne'])\n",
    "\n",
    "factrueval_testset = ConllCorpusReaderX('./factrueval2016_dataset/', \n",
    "                                        fileids='testset.txt', \n",
    "                                        columntypes=['words', 'offset', 'len', 'ne'])"
   ]
  },
  {
   "cell_type": "code",
   "execution_count": 40,
   "metadata": {
    "collapsed": true
   },
   "outputs": [],
   "source": [
    "gen = Generator(column_types=['WORD'], context_len=2)\n",
    "\n",
    "Y_train = [el[1] for el in factrueval_devset.get_ne()]\n",
    "Y_test = [el[1] for el in factrueval_testset.get_ne()] \n",
    "\n",
    "X_train = gen.fit_transform([[el] for el in factrueval_devset.words()], \n",
    "                            Y_train, \n",
    "                            path=TRAINSET_PATH)\n",
    "X_test = gen.transform([[el] for el in factrueval_testset.words()], \n",
    "                       path=TESTSET_PATH)"
   ]
  },
  {
   "cell_type": "code",
   "execution_count": 41,
   "metadata": {
    "collapsed": true
   },
   "outputs": [],
   "source": [
    "# Избавляет данные от случаев O : O #\n",
    "def clean(Y_pred, Y_test):\n",
    "    Y_pred = np.array(Y_pred)\n",
    "    Y_test = np.array(Y_test)\n",
    "\n",
    "    Y_pred_i = np.array([Y_pred != 'O'])\n",
    "    Y_test_i = np.array([Y_test != 'O'])\n",
    "\n",
    "    indexes = (Y_pred_i | Y_test_i).reshape(Y_pred.shape)\n",
    "\n",
    "    Y_pred_fixed = Y_pred[indexes]\n",
    "    Y_test_fixed = Y_test[indexes]\n",
    "    return Y_pred_fixed, Y_test_fixed"
   ]
  },
  {
   "cell_type": "code",
   "execution_count": 42,
   "metadata": {
    "collapsed": true
   },
   "outputs": [],
   "source": [
    "def run_baseline(clf=LogisticRegression()):\n",
    "    clf.fit(X_train, Y_train)\n",
    "    Y_pred = clf.predict(X_test)\n",
    "    Y_pred_c, Y_test_c = clean(Y_pred, Y_test)\n",
    "\n",
    "    def get_el(el):\n",
    "        if el == \"O\":\n",
    "            return el\n",
    "        else:\n",
    "            return el[2:]\n",
    "\n",
    "    Y_pred_c_light = [get_el(el) for el in Y_pred_c]\n",
    "    Y_test_c_light = [get_el(el) for el in Y_test_c]\n",
    "\n",
    "    # Strict evaluation #\n",
    "\n",
    "    print(\"\")\n",
    "    print(\"# Strict evaluation #\")\n",
    "    counter = Counter(Y_test_c)\n",
    "    labels = list(counter.keys())\n",
    "    labels.remove(\"O\")\n",
    "    results = f1_score(Y_test_c, Y_pred_c, average=None, labels=labels)\n",
    "    for a, b in zip(labels, results):\n",
    "        print('F1 for {} == {}, with {} entities'.format(a, b, counter[a]))\n",
    "\n",
    "    print(\"Weighted Score:\", f1_score(Y_test_c, Y_pred_c, average=\"weighted\", labels=list(counter.keys())))    \n",
    "\n",
    "    # Not strict evaluation #    \n",
    "\n",
    "    print(\"\")\n",
    "    print(\"# Not strict evaluation #\")    \n",
    "    light_counter = Counter(Y_test_c_light)\n",
    "    light_labels = list(light_counter.keys())\n",
    "    light_labels.remove(\"O\")\n",
    "    print(light_counter)\n",
    "    light_results = f1_score(Y_test_c_light, Y_pred_c_light, average=None, labels=light_labels)\n",
    "    for a, b in zip(light_labels, light_results):\n",
    "        print('F1 for {} == {}, with {} entities'.format(a, b, light_counter[a]))\n",
    "\n",
    "    print(\"Weighted Score:\", f1_score(Y_test_c_light, Y_pred_c_light, average=\"weighted\", labels=light_labels))"
   ]
  },
  {
   "cell_type": "code",
   "execution_count": 43,
   "metadata": {},
   "outputs": [
    {
     "name": "stdout",
     "output_type": "stream",
     "text": [
      "\n",
      "# Strict evaluation #\n",
      "F1 for B-Person == 0.8540332906530089, with 694 entities\n",
      "F1 for E-Person == 0.8702983138780804, with 692 entities\n",
      "F1 for S-Person == 0.5008665511265165, with 697 entities\n",
      "F1 for S-Location == 0.632888888888889, with 554 entities\n",
      "F1 for B-Location == 0.24844720496894407, with 114 entities\n",
      "F1 for I-Location == 0.024390243902439025, with 74 entities\n",
      "F1 for S-Org == 0.4945490584737363, with 1300 entities\n",
      "F1 for B-Org == 0.30454545454545456, with 646 entities\n",
      "F1 for I-Org == 0.29062768701633707, with 903 entities\n",
      "F1 for E-Org == 0.34394904458598724, with 600 entities\n",
      "F1 for S-LocOrg == 0.5724907063197027, with 666 entities\n",
      "F1 for I-Person == 0.1, with 27 entities\n",
      "F1 for E-Location == 0.17977528089887637, with 70 entities\n",
      "F1 for B-LocOrg == 0.3733333333333333, with 49 entities\n",
      "F1 for E-LocOrg == 0.0888888888888889, with 40 entities\n",
      "F1 for I-LocOrg == 0.0, with 13 entities\n",
      "F1 for B-Project == 0.0, with 16 entities\n",
      "F1 for I-Project == 0.0, with 12 entities\n",
      "F1 for S-Project == 0.0, with 11 entities\n",
      "F1 for E-Project == 0.0, with 15 entities\n",
      "F1 for B-Facility == 0.0, with 1 entities\n",
      "F1 for S-Facility == 0.0, with 1 entities\n",
      "Weighted Score: 0.488975115647\n",
      "\n",
      "# Not strict evaluation #\n",
      "Counter({'Org': 3449, 'Person': 2110, 'Location': 812, 'LocOrg': 768, 'O': 273, 'Project': 54, 'Facility': 2})\n",
      "F1 for Person == 0.8026989297347604, with 2110 entities\n",
      "F1 for Location == 0.5518188057652711, with 812 entities\n",
      "F1 for Org == 0.46099876186545596, with 3449 entities\n",
      "F1 for LocOrg == 0.5554808338937458, with 768 entities\n",
      "F1 for Project == 0.0, with 54 entities\n",
      "F1 for Facility == 0.0, with 2 entities\n",
      "Weighted Score: 0.577952136501\n"
     ]
    }
   ],
   "source": [
    "run_baseline()"
   ]
  },
  {
   "cell_type": "code",
   "execution_count": 44,
   "metadata": {},
   "outputs": [
    {
     "name": "stdout",
     "output_type": "stream",
     "text": [
      "\n",
      "# Strict evaluation #\n",
      "F1 for B-Person == 0.8285895003162556, with 694 entities\n",
      "F1 for E-Person == 0.8451069345430979, with 692 entities\n",
      "F1 for S-Person == 0.3195767195767195, with 697 entities\n",
      "F1 for S-Location == 0.554367201426025, with 554 entities\n",
      "F1 for B-Location == 0.16867469879518074, with 114 entities\n",
      "F1 for I-Location == 0.14432989690721648, with 74 entities\n",
      "F1 for S-Org == 0.3782894736842105, with 1300 entities\n",
      "F1 for B-Org == 0.229988726042841, with 646 entities\n",
      "F1 for I-Org == 0.19826086956521738, with 903 entities\n",
      "F1 for E-Org == 0.3171007927519819, with 600 entities\n",
      "F1 for S-LocOrg == 0.48030303030303034, with 666 entities\n",
      "F1 for I-Person == 0.0, with 27 entities\n",
      "F1 for E-Location == 0.02222222222222222, with 70 entities\n",
      "F1 for B-LocOrg == 0.282051282051282, with 49 entities\n",
      "F1 for E-LocOrg == 0.16000000000000003, with 40 entities\n",
      "F1 for I-LocOrg == 0.0625, with 13 entities\n",
      "F1 for B-Project == 0.0, with 16 entities\n",
      "F1 for I-Project == 0.0, with 12 entities\n",
      "F1 for S-Project == 0.0, with 11 entities\n",
      "F1 for E-Project == 0.0, with 15 entities\n",
      "F1 for B-Facility == 0.0, with 1 entities\n",
      "F1 for S-Facility == 0.0, with 1 entities\n",
      "Weighted Score: 0.405028784722\n",
      "\n",
      "# Not strict evaluation #\n",
      "Counter({'Org': 3449, 'Person': 2110, 'Location': 812, 'LocOrg': 768, 'O': 389, 'Project': 54, 'Facility': 2})\n",
      "F1 for Person == 0.7636894621562424, with 2110 entities\n",
      "F1 for Location == 0.4759322033898305, with 812 entities\n",
      "F1 for Org == 0.3646711635750421, with 3449 entities\n",
      "F1 for LocOrg == 0.4608108108108108, with 768 entities\n",
      "F1 for Project == 0.0, with 54 entities\n",
      "F1 for Facility == 0.0, with 2 entities\n",
      "Weighted Score: 0.501667166112\n"
     ]
    }
   ],
   "source": [
    "run_baseline(RandomForestClassifier())"
   ]
  },
  {
   "cell_type": "code",
   "execution_count": 45,
   "metadata": {},
   "outputs": [
    {
     "name": "stdout",
     "output_type": "stream",
     "text": [
      "\n",
      "# Strict evaluation #\n",
      "F1 for B-Person == 0.86034255599473, with 694 entities\n",
      "F1 for E-Person == 0.8844884488448846, with 692 entities\n",
      "F1 for S-Person == 0.4868189806678383, with 697 entities\n",
      "F1 for S-Location == 0.6248927038626609, with 554 entities\n",
      "F1 for B-Location == 0.32044198895027626, with 114 entities\n",
      "F1 for I-Location == 0.043010752688172046, with 74 entities\n",
      "F1 for S-Org == 0.5182341650671786, with 1300 entities\n",
      "F1 for B-Org == 0.3350895679662803, with 646 entities\n",
      "F1 for I-Org == 0.33202819107282694, with 903 entities\n",
      "F1 for E-Org == 0.3883720930232558, with 600 entities\n",
      "F1 for S-LocOrg == 0.5779122541603631, with 666 entities\n",
      "F1 for I-Person == 0.1694915254237288, with 27 entities\n",
      "F1 for E-Location == 0.19130434782608693, with 70 entities\n",
      "F1 for B-LocOrg == 0.4086021505376344, with 49 entities\n",
      "F1 for E-LocOrg == 0.0816326530612245, with 40 entities\n",
      "F1 for I-LocOrg == 0.1, with 13 entities\n",
      "F1 for B-Project == 0.0, with 16 entities\n",
      "F1 for I-Project == 0.0, with 12 entities\n",
      "F1 for S-Project == 0.0, with 11 entities\n",
      "F1 for E-Project == 0.0, with 15 entities\n",
      "F1 for B-Facility == 0.0, with 1 entities\n",
      "F1 for S-Facility == 0.0, with 1 entities\n",
      "Weighted Score: 0.499250922901\n",
      "\n",
      "# Not strict evaluation #\n",
      "Counter({'Org': 3449, 'Person': 2110, 'Location': 812, 'LocOrg': 768, 'O': 386, 'Project': 54, 'Facility': 2})\n",
      "F1 for Person == 0.8042553191489361, with 2110 entities\n",
      "F1 for Location == 0.5534105534105533, with 812 entities\n",
      "F1 for Org == 0.5129593810444875, with 3449 entities\n",
      "F1 for LocOrg == 0.5598404255319149, with 768 entities\n",
      "F1 for Project == 0.0, with 54 entities\n",
      "F1 for Facility == 0.0, with 2 entities\n",
      "Weighted Score: 0.603961423878\n"
     ]
    }
   ],
   "source": [
    "run_baseline(LinearSVC())"
   ]
  },
  {
   "cell_type": "code",
   "execution_count": 46,
   "metadata": {},
   "outputs": [
    {
     "name": "stdout",
     "output_type": "stream",
     "text": [
      "\n",
      "# Strict evaluation #\n",
      "F1 for B-Person == 0.821297429620563, with 694 entities\n",
      "F1 for E-Person == 0.8152240638428484, with 692 entities\n",
      "F1 for S-Person == 0.4165029469548134, with 697 entities\n",
      "F1 for S-Location == 0.6153846153846154, with 554 entities\n",
      "F1 for B-Location == 0.15, with 114 entities\n",
      "F1 for I-Location == 0.013513513513513514, with 74 entities\n",
      "F1 for S-Org == 0.5122910521140609, with 1300 entities\n",
      "F1 for B-Org == 0.23676012461059187, with 646 entities\n",
      "F1 for I-Org == 0.22335025380710657, with 903 entities\n",
      "F1 for E-Org == 0.1918918918918919, with 600 entities\n",
      "F1 for S-LocOrg == 0.5370496261046908, with 666 entities\n",
      "F1 for I-Person == 0.03921568627450981, with 27 entities\n",
      "F1 for E-Location == 0.10937500000000001, with 70 entities\n",
      "F1 for B-LocOrg == 0.26666666666666666, with 49 entities\n",
      "F1 for E-LocOrg == 0.07017543859649122, with 40 entities\n",
      "F1 for I-LocOrg == 0.05405405405405406, with 13 entities\n",
      "F1 for B-Project == 0.0, with 16 entities\n",
      "F1 for I-Project == 0.0, with 12 entities\n",
      "F1 for S-Project == 0.0, with 11 entities\n",
      "F1 for E-Project == 0.0, with 15 entities\n",
      "F1 for B-Facility == 0.0, with 1 entities\n",
      "F1 for S-Facility == 0.0, with 1 entities\n",
      "Weighted Score: 0.424495877784\n",
      "\n",
      "# Not strict evaluation #\n",
      "Counter({'Org': 3449, 'Person': 2110, 'Location': 812, 'LocOrg': 768, 'O': 584, 'Project': 54, 'Facility': 2})\n",
      "F1 for Person == 0.7590027700831025, with 2110 entities\n",
      "F1 for Location == 0.4932249322493225, with 812 entities\n",
      "F1 for Org == 0.41309209188859525, with 3449 entities\n",
      "F1 for LocOrg == 0.5094117647058825, with 768 entities\n",
      "F1 for Project == 0.0, with 54 entities\n",
      "F1 for Facility == 0.0, with 2 entities\n",
      "Weighted Score: 0.530643134132\n"
     ]
    }
   ],
   "source": [
    "run_baseline(GradientBoostingClassifier())"
   ]
  }
 ],
 "metadata": {
  "kernelspec": {
   "display_name": "Python 3",
   "language": "python",
   "name": "python3"
  },
  "language_info": {
   "codemirror_mode": {
    "name": "ipython",
    "version": 3
   },
   "file_extension": ".py",
   "mimetype": "text/x-python",
   "name": "python",
   "nbconvert_exporter": "python",
   "pygments_lexer": "ipython3",
   "version": "3.6.1"
  }
 },
 "nbformat": 4,
 "nbformat_minor": 2
}
