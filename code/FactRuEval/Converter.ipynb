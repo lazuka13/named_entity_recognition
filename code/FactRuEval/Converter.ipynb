{
 "cells": [
  {
   "cell_type": "markdown",
   "metadata": {},
   "source": [
    "### Обработка"
   ]
  },
  {
   "cell_type": "code",
   "execution_count": 11,
   "metadata": {
    "collapsed": true
   },
   "outputs": [],
   "source": [
    "import os\n",
    "\n",
    "def prepare(dataset):\n",
    "    factrueval_dev_tokens = dict()\n",
    "    factrueval_dev_tokens_list = []\n",
    "    factrueval_dev_spans = dict()\n",
    "    factrueval_dev_objects = dict()\n",
    "    for file in os.listdir('./factrueval2016_dataset/'+ dataset + '/'):\n",
    "        if file.endswith('tokens'):\n",
    "            with open('./factrueval2016_dataset/' + dataset + '/' + file, 'r+', encoding='utf-8') as file_obj:\n",
    "                lines = file_obj.readlines()\n",
    "                tokens = [line.rstrip().split() for line in lines if line.rstrip().split() != []]\n",
    "                for token in tokens:\n",
    "                    factrueval_dev_tokens[int(token[0])] = token[1:]\n",
    "                tokens = [line.rstrip().split() for line in lines]\n",
    "                for token in tokens:\n",
    "                    factrueval_dev_tokens_list.append(token)\n",
    "\n",
    "        if file.endswith('spans'):\n",
    "            with open('./factrueval2016_dataset/' + dataset + '/' + file, 'r+', encoding='utf-8') as file_obj:\n",
    "                spans = [line.rstrip().split() for line in file_obj.readlines() if line.rstrip().split() != []]\n",
    "                for span in spans:\n",
    "                    factrueval_dev_spans[span[0]] = span[1:]\n",
    "\n",
    "        if file.endswith('objects'):\n",
    "            with open('./factrueval2016_dataset/' + dataset + '/' + file, 'r+', encoding='utf-8') as file_obj:\n",
    "                objects = [line.rstrip().split('#')[0].split() for line in file_obj.readlines() if line.rstrip().split() != []]\n",
    "                for obj in objects:\n",
    "                    factrueval_dev_objects[obj[0]] = obj[1:]\n",
    "\n",
    "    all_ne = []\n",
    "    for key, value in factrueval_dev_objects.items():\n",
    "        spans = value[1:]\n",
    "        ne = value[0]\n",
    "        all_tokens = []\n",
    "        for span in spans:\n",
    "            span_obj = factrueval_dev_spans[span]\n",
    "            token = int(span_obj[3])\n",
    "            num_of_tokens = int(span_obj[4])\n",
    "            for i in range(num_of_tokens):\n",
    "                all_tokens.append(token + i)\n",
    "        all_ne.append([ne, sorted(all_tokens)])\n",
    "\n",
    "    for ne_tokens in all_ne:\n",
    "        ne = ne_tokens[0]\n",
    "        token = ne_tokens[1]\n",
    "        for i in range(len(token)):\n",
    "            if token[i] in factrueval_dev_tokens.keys():\n",
    "                if len(token) == 1:\n",
    "                    factrueval_dev_tokens[token[i]].append(\"S-\" + ne)\n",
    "                elif (i == 0 and token[i + 1] - token[i] > 1) or (i == len(token) - 1 and token[i] - token[i - 1] > 1) or (token[i] - token[i - 1] > 1 and token[i + 1] - token[i] > 1):\n",
    "                    factrueval_dev_tokens[token[i]].append(\"S-\" + ne)\n",
    "                elif (i == 0  and token[i + 1] - token[i] == 1) or (i != len(token) - 1 and token[i] - token[i - 1] > 1 and token[i + 1] - token[i] == 1):\n",
    "                    factrueval_dev_tokens[token[i]].append(\"B-\" + ne)\n",
    "                elif (i == len(token) - 1 and token[i] - token[i - 1] == 1) or (i != 0 and token[i] - token[i - 1] == 1 and token[i + 1] - token[i] > 1):\n",
    "                    factrueval_dev_tokens[token[i]].append(\"E-\" + ne)\n",
    "                else: \n",
    "                    factrueval_dev_tokens[token[i]].append(\"I-\" + ne)\n",
    "\n",
    "    for i in range(len(factrueval_dev_tokens_list)):\n",
    "        if factrueval_dev_tokens_list[i] == []:\n",
    "            continue\n",
    "        number_of_token = factrueval_dev_tokens_list[i][0]\n",
    "        if int(number_of_token) in factrueval_dev_tokens.keys() and len(factrueval_dev_tokens[int(number_of_token)]) >= 4:\n",
    "            ne = factrueval_dev_tokens[int(number_of_token)][3]\n",
    "            factrueval_dev_tokens_list[i].append(ne)\n",
    "        else:\n",
    "            factrueval_dev_tokens_list[i].append(\"O\")\n",
    "\n",
    "    final = []\n",
    "    for el in factrueval_dev_tokens_list:\n",
    "        if el == []:\n",
    "            final.append(el)\n",
    "        else:\n",
    "            final.append([el[3], el[1], el[2], el[4]])\n",
    "    return final"
   ]
  },
  {
   "cell_type": "code",
   "execution_count": 12,
   "metadata": {
    "collapsed": true
   },
   "outputs": [],
   "source": [
    "devset = prepare('devset')\n",
    "with open('./factrueval2016_dataset/devset.txt', 'w+', encoding='utf-8') as file:\n",
    "    file.write(\"-DOCSTART- O\\n\")\n",
    "    for line in devset:\n",
    "        if line == []:\n",
    "            file.write(\"\\n\")\n",
    "        else:\n",
    "            file.write(\"{} {} {} {}\\n\".format(*line))    "
   ]
  },
  {
   "cell_type": "code",
   "execution_count": 13,
   "metadata": {
    "collapsed": true
   },
   "outputs": [],
   "source": [
    "testset = prepare('testset')\n",
    "with open('./factrueval2016_dataset/testset.txt', 'w+', encoding='utf-8') as file:\n",
    "    file.write(\"-DOCSTART- O\\n\")\n",
    "    for line in testset:\n",
    "        if line == []:\n",
    "            file.write(\"\\n\")\n",
    "        else:\n",
    "            file.write(\"{} {} {} {}\\n\".format(*line))    "
   ]
  }
 ],
 "metadata": {
  "kernelspec": {
   "display_name": "Python 3",
   "language": "python",
   "name": "python3"
  },
  "language_info": {
   "codemirror_mode": {
    "name": "ipython",
    "version": 3
   },
   "file_extension": ".py",
   "mimetype": "text/x-python",
   "name": "python",
   "nbconvert_exporter": "python",
   "pygments_lexer": "ipython3",
   "version": "3.6.1"
  }
 },
 "nbformat": 4,
 "nbformat_minor": 2
}
