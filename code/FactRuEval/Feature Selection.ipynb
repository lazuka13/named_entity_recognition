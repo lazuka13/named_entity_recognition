{
 "cells": [
  {
   "cell_type": "code",
   "execution_count": 10,
   "metadata": {},
   "outputs": [],
   "source": [
    "import os\n",
    "import numpy as np\n",
    "from collections import Counter\n",
    "from sklearn.metrics import f1_score\n",
    "from sklearn.linear_model import LogisticRegression\n",
    "from sklearn.ensemble import RandomForestClassifier, GradientBoostingClassifier\n",
    "from sklearn.svm import LinearSVC\n",
    "\n",
    "from generator import Generator\n",
    "from corpus import ConllCorpusReaderX\n",
    "\n",
    "import warnings\n",
    "warnings.filterwarnings('ignore')\n",
    "\n",
    "TRAINSET_PATH = \"./factrueval_trainset.npz\"\n",
    "TESTSET_PATH = \"./factrueval_testset.npz\""
   ]
  },
  {
   "cell_type": "code",
   "execution_count": 11,
   "metadata": {
    "collapsed": true
   },
   "outputs": [],
   "source": [
    "factrueval_devset = ConllCorpusReaderX('./factrueval2016_dataset/',\n",
    "                                       fileids='devset.txt', \n",
    "                                       columntypes=['words', 'offset', 'len', 'ne'])\n",
    "\n",
    "factrueval_testset = ConllCorpusReaderX('./factrueval2016_dataset/', \n",
    "                                        fileids='testset.txt', \n",
    "                                        columntypes=['words', 'offset', 'len', 'ne'])\n",
    "\n",
    "def clean(Y_pred, Y_test):\n",
    "    Y_pred = np.array(Y_pred)\n",
    "    Y_test = np.array(Y_test)\n",
    "\n",
    "    Y_pred_i = np.array([Y_pred != 'O'])\n",
    "    Y_test_i = np.array([Y_test != 'O'])\n",
    "\n",
    "    indexes = (Y_pred_i | Y_test_i).reshape(Y_pred.shape)\n",
    "\n",
    "    Y_pred_fixed = Y_pred[indexes]\n",
    "    Y_test_fixed = Y_test[indexes]\n",
    "    return Y_pred_fixed, Y_test_fixed"
   ]
  },
  {
   "cell_type": "code",
   "execution_count": 12,
   "metadata": {
    "collapsed": true
   },
   "outputs": [],
   "source": [
    "def test_percentage(percentage):\n",
    "    if os.path.exists(TRAINSET_PATH):\n",
    "        os.remove(TRAINSET_PATH)\n",
    "    \n",
    "    if os.path.exists(TESTSET_PATH):\n",
    "        os.remove(TESTSET_PATH)\n",
    "    \n",
    "    gen = Generator(column_types=['WORD'], context_len=2, weight_percentage=percentage)\n",
    "\n",
    "    Y_train = [el[1] for el in factrueval_devset.get_ne()]\n",
    "    Y_test = [el[1] for el in factrueval_testset.get_ne()] \n",
    "\n",
    "    X_train = gen.fit_transform([[el] for el in factrueval_devset.words()], \n",
    "                                Y_train, \n",
    "                                path=TRAINSET_PATH)\n",
    "    X_test = gen.transform([[el] for el in factrueval_testset.words()], \n",
    "                           path=TESTSET_PATH)\n",
    "    \n",
    "    clf = LogisticRegression()\n",
    "    clf.fit(X_train, Y_train)\n",
    "    \n",
    "    Y_pred = clf.predict(X_test)\n",
    "    Y_pred_c, Y_test_c = clean(Y_pred, Y_test)\n",
    "\n",
    "    def get_el(el):\n",
    "        if el == \"O\":\n",
    "            return el\n",
    "        else:\n",
    "            return el[2:]\n",
    "\n",
    "    Y_pred_c_light = [get_el(el) for el in Y_pred_c]\n",
    "    Y_test_c_light = [get_el(el) for el in Y_test_c]\n",
    "\n",
    "    light_counter = Counter(Y_test_c_light)\n",
    "    light_labels = list(light_counter.keys())\n",
    "    light_labels.remove(\"O\")\n",
    "    a = f1_score(Y_test_c_light, Y_pred_c_light, average=\"weighted\", labels=light_labels)\n",
    "\n",
    "    Y_pred = clf.predict(X_train)\n",
    "    Y_pred_c, Y_train_c = clean(Y_pred, Y_train)\n",
    "\n",
    "    Y_pred_c_light = [get_el(el) for el in Y_pred_c]\n",
    "    Y_train_c_light = [get_el(el) for el in Y_train_c]\n",
    "\n",
    "    light_counter = Counter(Y_train_c_light)\n",
    "    light_labels = list(light_counter.keys())\n",
    "    light_labels.remove(\"O\")\n",
    "    b = f1_score(Y_train_c_light, Y_pred_c_light, average=\"weighted\", labels=light_labels)\n",
    "    \n",
    "    return b, a"
   ]
  },
  {
   "cell_type": "code",
   "execution_count": null,
   "metadata": {},
   "outputs": [],
   "source": [
    "poss_percentage = [0.6, 0.7, 0.8, 0.9, 0.95]\n",
    "results = [test_percentage(el) for el in poss_percentage]"
   ]
  },
  {
   "cell_type": "code",
   "execution_count": null,
   "metadata": {
    "collapsed": true
   },
   "outputs": [],
   "source": []
  }
 ],
 "metadata": {
  "kernelspec": {
   "display_name": "Python 3",
   "language": "python",
   "name": "python3"
  },
  "language_info": {
   "codemirror_mode": {
    "name": "ipython",
    "version": 3
   },
   "file_extension": ".py",
   "mimetype": "text/x-python",
   "name": "python",
   "nbconvert_exporter": "python",
   "pygments_lexer": "ipython3",
   "version": "3.6.1"
  }
 },
 "nbformat": 4,
 "nbformat_minor": 2
}
