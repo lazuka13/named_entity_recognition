{
 "cells": [
  {
   "cell_type": "code",
   "execution_count": 59,
   "metadata": {
    "collapsed": true
   },
   "outputs": [],
   "source": [
    "import numpy as np\n",
    "from collections import Counter\n",
    "from sklearn.metrics import f1_score\n",
    "from sklearn.linear_model import LogisticRegression\n",
    "from sklearn.feature_selection import SelectFromModel\n",
    "\n",
    "from generator import Generator\n",
    "from corpus import ConllCorpusReaderX\n",
    "\n",
    "import warnings\n",
    "warnings.filterwarnings('ignore')"
   ]
  },
  {
   "cell_type": "code",
   "execution_count": 67,
   "metadata": {},
   "outputs": [],
   "source": [
    "factrueval_devset = ConllCorpusReaderX('./factrueval2016_dataset/', \n",
    "                              fileids='devset.txt', \n",
    "                              columntypes=['words', 'offset', 'len', 'ne'])\n",
    "\n",
    "gen = Generator(column_types=['word'], context_len=2)\n",
    "\n",
    "all_words = [[el] for el in factrueval_devset.words()]\n",
    "len_words = len(all_words)\n",
    "\n",
    "X_all = gen.fit_transform(all_words, path='./factrueval_allset.npz')\n",
    "X_train = gen.transform(all_words[:len_words // 10 * 9], path='./factrueval_trainset.npz')\n",
    "X_test = gen.transform(all_words[len_words // 10 * 9:], path='./factrueval_testset.npz')"
   ]
  },
  {
   "cell_type": "code",
   "execution_count": 68,
   "metadata": {},
   "outputs": [
    {
     "name": "stdout",
     "output_type": "stream",
     "text": [
      "<class 'scipy.sparse.csr.csr_matrix'>\n"
     ]
    }
   ],
   "source": [
    "print(type(X_test))"
   ]
  },
  {
   "cell_type": "markdown",
   "metadata": {},
   "source": [
    "# One classifier for all classes (with prefixes)"
   ]
  },
  {
   "cell_type": "code",
   "execution_count": 69,
   "metadata": {
    "collapsed": true
   },
   "outputs": [],
   "source": [
    "y_all_first = np.array([el[1] for el in factrueval_devset.get_ne()])\n",
    "y_all = y_all_first\n",
    "y_train = y_all[:len_words // 10 * 9]\n",
    "y_test = y_all[len_words // 10 * 9:]"
   ]
  },
  {
   "cell_type": "code",
   "execution_count": 5,
   "metadata": {
    "collapsed": true
   },
   "outputs": [],
   "source": [
    "clf = LogisticRegression()\n",
    "\n",
    "clf.fit(X_train, y_train)\n",
    "y_pred = clf.predict(X_test)"
   ]
  },
  {
   "cell_type": "code",
   "execution_count": 6,
   "metadata": {
    "collapsed": true
   },
   "outputs": [],
   "source": [
    "y_pred = np.array(y_pred)\n",
    "y_true = np.array(y_test)\n",
    "\n",
    "y_pred_i = np.array([y_pred != 'O'])\n",
    "y_true_i = np.array([y_true != 'O'])\n",
    "\n",
    "ind = (y_pred_i | y_true_i).reshape(y_pred.shape)\n",
    "\n",
    "y_pred_fixed = y_pred[ind]\n",
    "y_true_fixed = y_true[ind]"
   ]
  },
  {
   "cell_type": "markdown",
   "metadata": {},
   "source": [
    "### Strict evaluation of results:"
   ]
  },
  {
   "cell_type": "code",
   "execution_count": 7,
   "metadata": {},
   "outputs": [
    {
     "name": "stdout",
     "output_type": "stream",
     "text": [
      "F1 for B-Org == 0.42553191489361697, with 30 entities\n",
      "F1 for E-Org == 0.3448275862068966, with 20 entities\n",
      "F1 for B-Person == 0.782608695652174, with 31 entities\n",
      "F1 for E-Person == 0.8450704225352113, with 31 entities\n",
      "F1 for S-Org == 0.6181818181818183, with 30 entities\n",
      "F1 for I-Org == 0.19672131147540983, with 44 entities\n",
      "F1 for S-Location == 0.7476635514018691, with 57 entities\n",
      "F1 for S-LocOrg == 0.5656565656565656, with 56 entities\n",
      "F1 for I-Person == 0.0, with 6 entities\n",
      "F1 for B-Location == 0.4444444444444445, with 14 entities\n",
      "F1 for I-Location == 0.125, with 13 entities\n",
      "F1 for E-Location == 0.15384615384615385, with 11 entities\n",
      "F1 for S-Person == 0.3636363636363637, with 13 entities\n",
      "F1 for B-LocOrg == 0.5714285714285715, with 4 entities\n",
      "F1 for E-LocOrg == 0.0, with 2 entities\n",
      "F1 for I-LocOrg == 0.0, with 2 entities\n"
     ]
    }
   ],
   "source": [
    "counter = Counter(y_true_fixed)\n",
    "labels = list(counter.keys())\n",
    "labels.remove(\"O\")\n",
    "results = f1_score(y_true_fixed, y_pred_fixed, average=None, labels=labels)\n",
    "for a, b in zip(labels, results):\n",
    "    print('F1 for {} == {}, with {} entities'.format(a, b, counter[a]))"
   ]
  },
  {
   "cell_type": "code",
   "execution_count": 8,
   "metadata": {},
   "outputs": [
    {
     "name": "stdout",
     "output_type": "stream",
     "text": [
      "0.500446439147\n"
     ]
    }
   ],
   "source": [
    "print(f1_score(y_true_fixed, y_pred_fixed, average=\"weighted\", labels=list(counter.keys())))"
   ]
  },
  {
   "cell_type": "markdown",
   "metadata": {},
   "source": [
    "### Not strict evaluation of results:"
   ]
  },
  {
   "cell_type": "code",
   "execution_count": 9,
   "metadata": {
    "collapsed": true
   },
   "outputs": [],
   "source": [
    "def get_el(el):\n",
    "    if el == \"O\":\n",
    "        return el\n",
    "    else:\n",
    "        return el[2:]\n",
    "    \n",
    "y_pred_fixed_light = [get_el(el) for el in y_pred_fixed]\n",
    "y_true_fixed_light = [get_el(el) for el in y_true_fixed]"
   ]
  },
  {
   "cell_type": "code",
   "execution_count": 10,
   "metadata": {},
   "outputs": [
    {
     "name": "stdout",
     "output_type": "stream",
     "text": [
      "Counter({'Org': 124, 'Location': 95, 'Person': 81, 'LocOrg': 64, 'O': 12})\n",
      "F1 for Org == 0.46875, with 124 entities\n",
      "F1 for Person == 0.770949720670391, with 81 entities\n",
      "F1 for Location == 0.6233766233766235, with 95 entities\n",
      "F1 for LocOrg == 0.5454545454545454, with 64 entities\n"
     ]
    }
   ],
   "source": [
    "light_counter = Counter(y_true_fixed_light)\n",
    "light_labels = list(light_counter.keys())\n",
    "light_labels.remove(\"O\")\n",
    "print(light_counter)\n",
    "light_results = f1_score(y_true_fixed_light, y_pred_fixed_light, average=None, labels=light_labels)\n",
    "for a, b in zip(light_labels, light_results):\n",
    "    print('F1 for {} == {}, with {} entities'.format(a, b, light_counter[a]))"
   ]
  },
  {
   "cell_type": "code",
   "execution_count": 11,
   "metadata": {},
   "outputs": [
    {
     "name": "stdout",
     "output_type": "stream",
     "text": [
      "0.589840103033\n"
     ]
    }
   ],
   "source": [
    "print(f1_score(y_true_fixed_light, y_pred_fixed_light, average=\"weighted\", labels=light_labels))"
   ]
  },
  {
   "cell_type": "markdown",
   "metadata": {},
   "source": [
    "# One classifier for all classes (without prefixes)"
   ]
  },
  {
   "cell_type": "code",
   "execution_count": 12,
   "metadata": {
    "collapsed": true
   },
   "outputs": [],
   "source": [
    "y_all = [get_el(el) for el in y_all_first]\n",
    "y_train = y_all[:len_words // 10 * 9]\n",
    "y_test = y_all[len_words // 10 * 9:]"
   ]
  },
  {
   "cell_type": "code",
   "execution_count": 13,
   "metadata": {
    "collapsed": true
   },
   "outputs": [],
   "source": [
    "clf = LogisticRegression()\n",
    "\n",
    "clf.fit(X_train, y_train)\n",
    "y_pred = clf.predict(X_test)"
   ]
  },
  {
   "cell_type": "code",
   "execution_count": 14,
   "metadata": {
    "collapsed": true
   },
   "outputs": [],
   "source": [
    "y_pred = np.array(y_pred)\n",
    "y_true = np.array(y_test)\n",
    "\n",
    "y_pred_i = np.array([y_pred != 'O'])\n",
    "y_true_i = np.array([y_true != 'O'])\n",
    "\n",
    "ind = (y_pred_i | y_true_i).reshape(y_pred.shape)\n",
    "\n",
    "y_pred_fixed = y_pred[ind]\n",
    "y_true_fixed = y_true[ind]"
   ]
  },
  {
   "cell_type": "markdown",
   "metadata": {},
   "source": [
    "### Not strict evaluation of results"
   ]
  },
  {
   "cell_type": "code",
   "execution_count": 15,
   "metadata": {},
   "outputs": [
    {
     "name": "stdout",
     "output_type": "stream",
     "text": [
      "Counter({'Org': 124, 'Location': 95, 'Person': 81, 'LocOrg': 64, 'O': 10})\n",
      "F1 for Org == 0.45595854922279794, with 124 entities\n",
      "F1 for Person == 0.8021978021978022, with 81 entities\n",
      "F1 for Location == 0.6580645161290322, with 95 entities\n",
      "F1 for LocOrg == 0.5576923076923076, with 64 entities\n",
      "F1 for O == 0.0, with 10 entities\n"
     ]
    }
   ],
   "source": [
    "light_counter = Counter(y_true_fixed)\n",
    "light_labels = list(light_counter.keys())\n",
    "print(light_counter)\n",
    "light_results = f1_score(y_true_fixed, y_pred_fixed, average=None, labels=light_labels)\n",
    "for a, b in zip(light_labels, light_results):\n",
    "    print('F1 for {} == {}, with {} entities'.format(a, b, light_counter[a]))"
   ]
  },
  {
   "cell_type": "code",
   "execution_count": 16,
   "metadata": {},
   "outputs": [
    {
     "name": "stdout",
     "output_type": "stream",
     "text": [
      "0.587500852423\n"
     ]
    }
   ],
   "source": [
    "print(f1_score(y_true_fixed, y_pred_fixed, average=\"weighted\", labels=light_labels))"
   ]
  },
  {
   "cell_type": "markdown",
   "metadata": {},
   "source": [
    "# Different classifiers for different classes (without prefixes and with prefixes)"
   ]
  },
  {
   "cell_type": "code",
   "execution_count": 17,
   "metadata": {
    "collapsed": true
   },
   "outputs": [],
   "source": [
    "def run_diff_classes(template, prefixes=False):\n",
    "    \n",
    "    def get_only(el, template):\n",
    "        if el[2:] == template:\n",
    "            if prefixes:\n",
    "                return el\n",
    "            else:\n",
    "                return template\n",
    "        else:\n",
    "            return \"O\"\n",
    "\n",
    "    y_all = [get_only(el, template) for el in y_all_first]\n",
    "    y_train = y_all[:len_words // 10 * 9]\n",
    "    y_test = y_all[len_words // 10 * 9:]\n",
    "    \n",
    "    clf = LogisticRegression()\n",
    "\n",
    "    clf.fit(X_train, y_train)\n",
    "    y_pred = clf.predict(X_test)\n",
    "\n",
    "    y_pred = np.array(y_pred)\n",
    "    y_true = np.array(y_test)\n",
    "\n",
    "    y_pred_i = np.array([y_pred != 'O'])\n",
    "    y_true_i = np.array([y_true != 'O'])\n",
    "\n",
    "    ind = (y_pred_i | y_true_i).reshape(y_pred.shape)\n",
    "\n",
    "    y_pred_fixed = y_pred[ind]\n",
    "    y_true_fixed = y_true[ind]\n",
    "    \n",
    "    light_counter = Counter(y_true_fixed)\n",
    "    labels = list(light_counter.keys())\n",
    "    labels.remove(\"O\")\n",
    "    print(labels)\n",
    "    light_result = f1_score(y_true_fixed, y_pred_fixed, average=\"weighted\", labels=labels)\n",
    "    print('F1 for {} == {}, with {} entities'.format(template, light_result, light_counter[template]))\n",
    "        \n",
    "    return light_result, light_counter[template]"
   ]
  },
  {
   "cell_type": "code",
   "execution_count": 18,
   "metadata": {},
   "outputs": [
    {
     "name": "stdout",
     "output_type": "stream",
     "text": [
      "['Person']\n",
      "F1 for Person == 0.8366013071895425, with 81 entities\n"
     ]
    }
   ],
   "source": [
    "result1, weight1 = run_diff_classes(\"Person\")"
   ]
  },
  {
   "cell_type": "code",
   "execution_count": 19,
   "metadata": {},
   "outputs": [
    {
     "name": "stdout",
     "output_type": "stream",
     "text": [
      "['Org']\n",
      "F1 for Org == 0.3953488372093023, with 124 entities\n"
     ]
    }
   ],
   "source": [
    "result2, weight2 = run_diff_classes(\"Org\")"
   ]
  },
  {
   "cell_type": "code",
   "execution_count": 20,
   "metadata": {},
   "outputs": [
    {
     "name": "stdout",
     "output_type": "stream",
     "text": [
      "['LocOrg']\n",
      "F1 for LocOrg == 0.4827586206896551, with 64 entities\n"
     ]
    }
   ],
   "source": [
    "result3, weight3 = run_diff_classes(\"LocOrg\")"
   ]
  },
  {
   "cell_type": "code",
   "execution_count": 21,
   "metadata": {},
   "outputs": [
    {
     "name": "stdout",
     "output_type": "stream",
     "text": [
      "['Location']\n",
      "F1 for Location == 0.5467625899280576, with 95 entities\n"
     ]
    }
   ],
   "source": [
    "result4, weight4 = run_diff_classes(\"Location\")"
   ]
  },
  {
   "cell_type": "code",
   "execution_count": 22,
   "metadata": {
    "collapsed": true
   },
   "outputs": [],
   "source": [
    "total_weight = weight1 + weight2 + weight3 + weight4\n",
    "total_result = (result1 * weight1 + result2 * weight2 + result3 * weight3 + result4 * weight4) / total_weight"
   ]
  },
  {
   "cell_type": "code",
   "execution_count": 23,
   "metadata": {},
   "outputs": [
    {
     "name": "stdout",
     "output_type": "stream",
     "text": [
      "0.548425712812\n"
     ]
    }
   ],
   "source": [
    "print(total_result)"
   ]
  },
  {
   "cell_type": "code",
   "execution_count": 24,
   "metadata": {},
   "outputs": [
    {
     "name": "stdout",
     "output_type": "stream",
     "text": [
      "['B-Person', 'E-Person', 'I-Person', 'S-Person']\n",
      "F1 for Person == 0.7247599451303155, with 0 entities\n"
     ]
    }
   ],
   "source": [
    "result1, weight1 = run_diff_classes(\"Person\", prefixes=True)"
   ]
  },
  {
   "cell_type": "code",
   "execution_count": 25,
   "metadata": {},
   "outputs": [
    {
     "name": "stdout",
     "output_type": "stream",
     "text": [
      "['B-Org', 'E-Org', 'S-Org', 'I-Org']\n",
      "F1 for Org == 0.302298742425133, with 0 entities\n"
     ]
    }
   ],
   "source": [
    "result2, weight2 = run_diff_classes(\"Org\", prefixes=True)"
   ]
  },
  {
   "cell_type": "code",
   "execution_count": 26,
   "metadata": {},
   "outputs": [
    {
     "name": "stdout",
     "output_type": "stream",
     "text": [
      "['S-LocOrg', 'B-LocOrg', 'E-LocOrg', 'I-LocOrg']\n",
      "F1 for LocOrg == 0.37333333333333335, with 0 entities\n"
     ]
    }
   ],
   "source": [
    "result3, weight3 = run_diff_classes(\"LocOrg\", prefixes=True)"
   ]
  },
  {
   "cell_type": "code",
   "execution_count": 27,
   "metadata": {},
   "outputs": [
    {
     "name": "stdout",
     "output_type": "stream",
     "text": [
      "['S-Location', 'B-Location', 'I-Location', 'E-Location']\n",
      "F1 for Location == 0.4411899313501145, with 0 entities\n"
     ]
    }
   ],
   "source": [
    "result4, weight4 = run_diff_classes(\"Location\", prefixes=True)"
   ]
  },
  {
   "cell_type": "markdown",
   "metadata": {},
   "source": [
    "### Почему результат ухудшился при раздельной классификации?"
   ]
  },
  {
   "cell_type": "markdown",
   "metadata": {
    "collapsed": true
   },
   "source": [
    "### Пока причина этого непонятна, для отбора признаков воспользуемся вторым классификатором:\n"
   ]
  },
  {
   "cell_type": "code",
   "execution_count": 70,
   "metadata": {},
   "outputs": [],
   "source": [
    "y_all_first = np.array([el[1] for el in factrueval_devset.get_ne()])\n",
    "y_all = [get_el(el) for el in y_all_first]\n",
    "y_train = y_all[:len_words // 10 * 9]\n",
    "y_test = y_all[len_words // 10 * 9:]"
   ]
  },
  {
   "cell_type": "code",
   "execution_count": 83,
   "metadata": {},
   "outputs": [],
   "source": [
    "clf = LogisticRegression()\n",
    "clf.fit(X_train, y_train)\n",
    "\n",
    "model = SelectFromModel(clf, prefit=True, threshold=\"mean\")\n",
    "X_train_T = model.transform(X_train)\n",
    "X_test_T = model.transform(X_test)"
   ]
  },
  {
   "cell_type": "code",
   "execution_count": 84,
   "metadata": {},
   "outputs": [
    {
     "name": "stdout",
     "output_type": "stream",
     "text": [
      "(27846, 29819) (27846, 7509)\n"
     ]
    }
   ],
   "source": [
    "print(X_train.shape, X_train_T.shape)"
   ]
  },
  {
   "cell_type": "code",
   "execution_count": 85,
   "metadata": {
    "collapsed": true
   },
   "outputs": [],
   "source": [
    "clf = LogisticRegression()\n",
    "clf.fit(X_train_T, y_train)\n",
    "y_pred = clf.predict(X_test_T)"
   ]
  },
  {
   "cell_type": "code",
   "execution_count": 86,
   "metadata": {
    "collapsed": true
   },
   "outputs": [],
   "source": [
    "y_pred = np.array(y_pred)\n",
    "y_true = np.array(y_test)\n",
    "\n",
    "y_pred_i = np.array([y_pred != 'O'])\n",
    "y_true_i = np.array([y_true != 'O'])\n",
    "\n",
    "ind = (y_pred_i | y_true_i).reshape(y_pred.shape)\n",
    "\n",
    "y_pred_fixed = y_pred[ind]\n",
    "y_true_fixed = y_true[ind]"
   ]
  },
  {
   "cell_type": "code",
   "execution_count": 87,
   "metadata": {},
   "outputs": [
    {
     "name": "stdout",
     "output_type": "stream",
     "text": [
      "Counter({'Org': 124, 'Location': 95, 'Person': 81, 'LocOrg': 64, 'O': 10})\n",
      "F1 for Org == 0.45595854922279794, with 124 entities\n",
      "F1 for Person == 0.7955801104972375, with 81 entities\n",
      "F1 for Location == 0.6493506493506493, with 95 entities\n",
      "F1 for LocOrg == 0.5660377358490566, with 64 entities\n",
      "F1 for O == 0.0, with 10 entities\n"
     ]
    }
   ],
   "source": [
    "light_counter = Counter(y_true_fixed)\n",
    "light_labels = list(light_counter.keys())\n",
    "print(light_counter)\n",
    "light_results = f1_score(y_true_fixed, y_pred_fixed, average=None, labels=light_labels)\n",
    "for a, b in zip(light_labels, light_results):\n",
    "    print('F1 for {} == {}, with {} entities'.format(a, b, light_counter[a]))"
   ]
  },
  {
   "cell_type": "code",
   "execution_count": 88,
   "metadata": {},
   "outputs": [
    {
     "name": "stdout",
     "output_type": "stream",
     "text": [
      "0.585282288333\n"
     ]
    }
   ],
   "source": [
    "print(f1_score(y_true_fixed, y_pred_fixed, average=\"weighted\", labels=light_labels))"
   ]
  }
 ],
 "metadata": {
  "kernelspec": {
   "display_name": "Python 3",
   "language": "python",
   "name": "python3"
  },
  "language_info": {
   "codemirror_mode": {
    "name": "ipython",
    "version": 3
   },
   "file_extension": ".py",
   "mimetype": "text/x-python",
   "name": "python",
   "nbconvert_exporter": "python",
   "pygments_lexer": "ipython3",
   "version": "3.6.1"
  }
 },
 "nbformat": 4,
 "nbformat_minor": 2
}
