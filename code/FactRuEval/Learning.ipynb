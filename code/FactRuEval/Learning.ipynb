{
 "cells": [
  {
   "cell_type": "code",
   "execution_count": null,
   "metadata": {
    "collapsed": true
   },
   "outputs": [],
   "source": []
  },
  {
   "cell_type": "code",
   "execution_count": 78,
   "metadata": {},
   "outputs": [
    {
     "name": "stdout",
     "output_type": "stream",
     "text": [
      "Removed ./factrueval_trainset.npz\n",
      "Removed ./factrueval_testset.npz\n"
     ]
    }
   ],
   "source": [
    "import os\n",
    "import numpy as np\n",
    "from collections import Counter\n",
    "from sklearn.metrics import f1_score\n",
    "from sklearn.linear_model import LogisticRegression\n",
    "from sklearn.feature_selection import SelectFromModel\n",
    "\n",
    "from generator import Generator\n",
    "from corpus import ConllCorpusReaderX\n",
    "\n",
    "import warnings\n",
    "warnings.filterwarnings('ignore')\n",
    "\n",
    "TRAINSET_PATH = \"./factrueval_trainset.npz\"\n",
    "TESTSET_PATH = \"./factrueval_testset.npz\"\n",
    "\n",
    "if os.path.exists(TRAINSET_PATH):\n",
    "    os.remove(TRAINSET_PATH)\n",
    "    print(\"Removed \"+ TRAINSET_PATH)\n",
    "    \n",
    "if os.path.exists(TESTSET_PATH):\n",
    "    os.remove(TESTSET_PATH)\n",
    "    print(\"Removed \"+ TESTSET_PATH)"
   ]
  },
  {
   "cell_type": "code",
   "execution_count": 79,
   "metadata": {
    "collapsed": true
   },
   "outputs": [],
   "source": [
    "factrueval_devset = ConllCorpusReaderX('./factrueval2016_dataset/',\n",
    "                                       fileids='devset.txt', \n",
    "                                       columntypes=['words', 'offset', 'len', 'ne'])\n",
    "\n",
    "factrueval_testset = ConllCorpusReaderX('./factrueval2016_dataset/', \n",
    "                                        fileids='testset.txt', \n",
    "                                        columntypes=['words', 'offset', 'len', 'ne'])"
   ]
  },
  {
   "cell_type": "code",
   "execution_count": 80,
   "metadata": {
    "collapsed": true
   },
   "outputs": [],
   "source": [
    "gen = Generator(column_types=['WORD'], context_len=2)\n",
    "\n",
    "Y_train = [el[1] for el in factrueval_devset.get_ne()]\n",
    "Y_test = [el[1] for el in factrueval_testset.get_ne()] \n",
    "\n",
    "X_train = gen.fit_transform([[el] for el in factrueval_devset.words()], \n",
    "                            Y_train, \n",
    "                            path=TRAINSET_PATH)\n",
    "X_test = gen.transform([[el] for el in factrueval_testset.words()], \n",
    "                       path=TESTSET_PATH)"
   ]
  },
  {
   "cell_type": "markdown",
   "metadata": {},
   "source": [
    "# One classifier for all classes (with prefixes)"
   ]
  },
  {
   "cell_type": "code",
   "execution_count": 81,
   "metadata": {
    "collapsed": true
   },
   "outputs": [],
   "source": [
    "clf = LogisticRegression()\n",
    "\n",
    "clf.fit(X_train, Y_train)\n",
    "Y_pred = clf.predict(X_test)"
   ]
  },
  {
   "cell_type": "code",
   "execution_count": 82,
   "metadata": {
    "collapsed": true
   },
   "outputs": [],
   "source": [
    "# Избавляет данные от случаев O : O #\n",
    "def clean(Y_pred, Y_test):\n",
    "    Y_pred = np.array(Y_pred)\n",
    "    Y_test = np.array(Y_test)\n",
    "\n",
    "    Y_pred_i = np.array([Y_pred != 'O'])\n",
    "    Y_test_i = np.array([Y_test != 'O'])\n",
    "\n",
    "    indexes = (Y_pred_i | Y_test_i).reshape(Y_pred.shape)\n",
    "\n",
    "    Y_pred_fixed = Y_pred[indexes]\n",
    "    Y_test_fixed = Y_test[indexes]\n",
    "    return Y_pred_fixed, Y_test_fixed"
   ]
  },
  {
   "cell_type": "code",
   "execution_count": 83,
   "metadata": {
    "collapsed": true
   },
   "outputs": [],
   "source": [
    "Y_pred_c, Y_test_c = clean(Y_pred, Y_test)"
   ]
  },
  {
   "cell_type": "markdown",
   "metadata": {},
   "source": [
    "### Strict evaluation of results:"
   ]
  },
  {
   "cell_type": "code",
   "execution_count": 84,
   "metadata": {},
   "outputs": [
    {
     "name": "stdout",
     "output_type": "stream",
     "text": [
      "F1 for B-Person == 0.8549422336328627, with 694 entities\n",
      "F1 for E-Person == 0.8731294729993494, with 692 entities\n",
      "F1 for S-Person == 0.5106746370623398, with 697 entities\n",
      "F1 for S-Location == 0.644524236983842, with 554 entities\n",
      "F1 for B-Location == 0.25925925925925924, with 114 entities\n",
      "F1 for I-Location == 0.023809523809523808, with 74 entities\n",
      "F1 for S-Org == 0.4990157480314961, with 1300 entities\n",
      "F1 for B-Org == 0.31221719457013575, with 646 entities\n",
      "F1 for I-Org == 0.295786758383491, with 903 entities\n",
      "F1 for E-Org == 0.3545568039950062, with 600 entities\n",
      "F1 for S-LocOrg == 0.5797317436661699, with 666 entities\n",
      "F1 for I-Person == 0.15, with 27 entities\n",
      "F1 for E-Location == 0.20454545454545453, with 70 entities\n",
      "F1 for B-LocOrg == 0.35616438356164387, with 49 entities\n",
      "F1 for E-LocOrg == 0.0888888888888889, with 40 entities\n",
      "F1 for I-LocOrg == 0.0, with 13 entities\n",
      "F1 for B-Project == 0.0, with 16 entities\n",
      "F1 for I-Project == 0.0, with 12 entities\n",
      "F1 for S-Project == 0.0, with 11 entities\n",
      "F1 for E-Project == 0.0, with 15 entities\n",
      "F1 for B-Facility == 0.0, with 1 entities\n",
      "F1 for S-Facility == 0.0, with 1 entities\n"
     ]
    }
   ],
   "source": [
    "counter = Counter(Y_test_c)\n",
    "labels = list(counter.keys())\n",
    "labels.remove(\"O\")\n",
    "results = f1_score(Y_test_c, Y_pred_c, average=None, labels=labels)\n",
    "for a, b in zip(labels, results):\n",
    "    print('F1 for {} == {}, with {} entities'.format(a, b, counter[a]))"
   ]
  },
  {
   "cell_type": "code",
   "execution_count": 85,
   "metadata": {},
   "outputs": [
    {
     "name": "stdout",
     "output_type": "stream",
     "text": [
      "0.494593238884\n"
     ]
    }
   ],
   "source": [
    "print(f1_score(Y_test_c, Y_pred_c, average=\"weighted\", labels=list(counter.keys())))"
   ]
  },
  {
   "cell_type": "markdown",
   "metadata": {},
   "source": [
    "### Not strict evaluation of results:"
   ]
  },
  {
   "cell_type": "code",
   "execution_count": 86,
   "metadata": {
    "collapsed": true
   },
   "outputs": [],
   "source": [
    "def get_el(el):\n",
    "    if el == \"O\":\n",
    "        return el\n",
    "    else:\n",
    "        return el[2:]\n",
    "    \n",
    "Y_pred_c_light = [get_el(el) for el in Y_pred_c]\n",
    "Y_test_c_light = [get_el(el) for el in Y_test_c]"
   ]
  },
  {
   "cell_type": "code",
   "execution_count": 87,
   "metadata": {},
   "outputs": [
    {
     "name": "stdout",
     "output_type": "stream",
     "text": [
      "Counter({'Org': 3449, 'Person': 2110, 'Location': 812, 'LocOrg': 768, 'O': 281, 'Project': 54, 'Facility': 2})\n",
      "F1 for Person == 0.8049233627496515, with 2110 entities\n",
      "F1 for Location == 0.5580110497237569, with 812 entities\n",
      "F1 for Org == 0.46639344262295085, with 3449 entities\n",
      "F1 for LocOrg == 0.5637221847606204, with 768 entities\n",
      "F1 for Project == 0.0, with 54 entities\n",
      "F1 for Facility == 0.0, with 2 entities\n"
     ]
    }
   ],
   "source": [
    "light_counter = Counter(Y_test_c_light)\n",
    "light_labels = list(light_counter.keys())\n",
    "light_labels.remove(\"O\")\n",
    "print(light_counter)\n",
    "light_results = f1_score(Y_test_c_light, Y_pred_c_light, average=None, labels=light_labels)\n",
    "for a, b in zip(light_labels, light_results):\n",
    "    print('F1 for {} == {}, with {} entities'.format(a, b, light_counter[a]))"
   ]
  },
  {
   "cell_type": "code",
   "execution_count": 88,
   "metadata": {},
   "outputs": [
    {
     "name": "stdout",
     "output_type": "stream",
     "text": [
      "0.582768990866\n"
     ]
    }
   ],
   "source": [
    "print(f1_score(Y_test_c_light, Y_pred_c_light, average=\"weighted\", labels=light_labels))"
   ]
  },
  {
   "cell_type": "markdown",
   "metadata": {},
   "source": [
    "# One classifier for all classes (without prefixes)"
   ]
  },
  {
   "cell_type": "code",
   "execution_count": 89,
   "metadata": {
    "collapsed": true
   },
   "outputs": [],
   "source": [
    "def get_el(el):\n",
    "    if el == \"O\":\n",
    "        return el\n",
    "    else:\n",
    "        return el[2:]\n",
    "\n",
    "Y_train = [get_el(el[1]) for el in factrueval_devset.get_ne()]\n",
    "Y_test = [get_el(el[1]) for el in factrueval_testset.get_ne()] \n",
    "\n",
    "clf = LogisticRegression()\n",
    "\n",
    "clf.fit(X_train, Y_train)\n",
    "Y_pred = clf.predict(X_test)"
   ]
  },
  {
   "cell_type": "code",
   "execution_count": 90,
   "metadata": {
    "collapsed": true
   },
   "outputs": [],
   "source": [
    "Y_pred_c, Y_test_c = clean(Y_pred, Y_test)"
   ]
  },
  {
   "cell_type": "markdown",
   "metadata": {},
   "source": [
    "### Not strict evaluation of results"
   ]
  },
  {
   "cell_type": "code",
   "execution_count": 91,
   "metadata": {},
   "outputs": [
    {
     "name": "stdout",
     "output_type": "stream",
     "text": [
      "Counter({'Org': 3449, 'Person': 2110, 'Location': 812, 'LocOrg': 768, 'O': 347, 'Project': 54, 'Facility': 2})\n",
      "F1 for Person == 0.8110307414104884, with 2110 entities\n",
      "F1 for O == 0.0, with 347 entities\n",
      "F1 for Location == 0.5777777777777777, with 812 entities\n",
      "F1 for Org == 0.5122047244094489, with 3449 entities\n",
      "F1 for LocOrg == 0.5821325648414986, with 768 entities\n",
      "F1 for Project == 0.0, with 54 entities\n",
      "F1 for Facility == 0.0, with 2 entities\n"
     ]
    }
   ],
   "source": [
    "light_counter = Counter(Y_test_c)\n",
    "light_labels = list(light_counter.keys())\n",
    "print(light_counter)\n",
    "light_results = f1_score(Y_test_c, Y_pred_c, average=None, labels=light_labels)\n",
    "for a, b in zip(light_labels, light_results):\n",
    "    print('F1 for {} == {}, with {} entities'.format(a, b, light_counter[a]))"
   ]
  },
  {
   "cell_type": "code",
   "execution_count": 92,
   "metadata": {},
   "outputs": [
    {
     "name": "stdout",
     "output_type": "stream",
     "text": [
      "0.58261765105\n"
     ]
    }
   ],
   "source": [
    "print(f1_score(Y_test_c, Y_pred_c, average=\"weighted\", labels=light_labels))"
   ]
  },
  {
   "cell_type": "markdown",
   "metadata": {},
   "source": [
    "# Different classifiers for different classes (without prefixes and with prefixes)"
   ]
  },
  {
   "cell_type": "code",
   "execution_count": 93,
   "metadata": {
    "collapsed": true
   },
   "outputs": [],
   "source": [
    "def run_diff_classes(template, prefixes=False):\n",
    "    def get_only(el):\n",
    "        if (el[2:] == template):\n",
    "            return el[2:]\n",
    "        else:\n",
    "            return \"O\"\n",
    "        \n",
    "    Y_train = [get_only(el[1]) for el in factrueval_devset.get_ne()]\n",
    "    Y_test = [get_only(el[1]) for el in factrueval_testset.get_ne()] \n",
    "    \n",
    "    clf = LogisticRegression()\n",
    "\n",
    "    clf.fit(X_train, Y_train)\n",
    "    Y_pred = clf.predict(X_test)\n",
    "\n",
    "    Y_pred_c, Y_test_c = clean(Y_pred, Y_test)\n",
    "    \n",
    "    light_counter = Counter(Y_test_c)\n",
    "    light_counter_2 = Counter(Y_pred_c)\n",
    "    labels = list(light_counter.keys())\n",
    "    labels.remove(\"O\")\n",
    "    print(labels)\n",
    "    light_result = f1_score(Y_test_c, Y_pred_c, average=\"binary\", pos_label=template)\n",
    "    print('F1 for {} == {}, with {} entities'.format(template, light_result, light_counter[template]))\n",
    "        \n",
    "    return light_result, light_counter[template]"
   ]
  },
  {
   "cell_type": "code",
   "execution_count": 94,
   "metadata": {},
   "outputs": [
    {
     "name": "stdout",
     "output_type": "stream",
     "text": [
      "['Person']\n",
      "F1 for Person == 0.7972642892037127, with 2110 entities\n"
     ]
    }
   ],
   "source": [
    "result1, weight1 = run_diff_classes(\"Person\")"
   ]
  },
  {
   "cell_type": "code",
   "execution_count": 95,
   "metadata": {},
   "outputs": [
    {
     "name": "stdout",
     "output_type": "stream",
     "text": [
      "['Org']\n",
      "F1 for Org == 0.42703862660944203, with 3449 entities\n"
     ]
    }
   ],
   "source": [
    "result2, weight2 = run_diff_classes(\"Org\")"
   ]
  },
  {
   "cell_type": "code",
   "execution_count": 96,
   "metadata": {},
   "outputs": [
    {
     "name": "stdout",
     "output_type": "stream",
     "text": [
      "['LocOrg']\n",
      "F1 for LocOrg == 0.5375972342264478, with 768 entities\n"
     ]
    }
   ],
   "source": [
    "result3, weight3 = run_diff_classes(\"LocOrg\")"
   ]
  },
  {
   "cell_type": "code",
   "execution_count": 97,
   "metadata": {},
   "outputs": [
    {
     "name": "stdout",
     "output_type": "stream",
     "text": [
      "['Location']\n",
      "F1 for Location == 0.540090771558245, with 812 entities\n"
     ]
    }
   ],
   "source": [
    "result4, weight4 = run_diff_classes(\"Location\")"
   ]
  },
  {
   "cell_type": "code",
   "execution_count": 98,
   "metadata": {
    "collapsed": true
   },
   "outputs": [],
   "source": [
    "total_weight = weight1 + weight2 + weight3 + weight4\n",
    "total_result = (result1 * weight1 + result2 * weight2 + result3 * weight3 + result4 * weight4) / total_weight"
   ]
  },
  {
   "cell_type": "code",
   "execution_count": 99,
   "metadata": {},
   "outputs": [
    {
     "name": "stdout",
     "output_type": "stream",
     "text": [
      "0.561214771787\n"
     ]
    }
   ],
   "source": [
    "print(total_result)"
   ]
  }
 ],
 "metadata": {
  "kernelspec": {
   "display_name": "Python 3",
   "language": "python",
   "name": "python3"
  },
  "language_info": {
   "codemirror_mode": {
    "name": "ipython",
    "version": 3
   },
   "file_extension": ".py",
   "mimetype": "text/x-python",
   "name": "python",
   "nbconvert_exporter": "python",
   "pygments_lexer": "ipython3",
   "version": "3.6.1"
  }
 },
 "nbformat": 4,
 "nbformat_minor": 1
}
