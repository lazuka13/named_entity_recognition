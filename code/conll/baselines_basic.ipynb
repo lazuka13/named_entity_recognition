{
 "cells": [
  {
   "cell_type": "code",
   "execution_count": 1,
   "metadata": {},
   "outputs": [],
   "source": [
    "from sklearn.linear_model import LogisticRegression\n",
    "from sklearn.ensemble import RandomForestClassifier, GradientBoostingClassifier\n",
    "from sklearn.svm import LinearSVC\n",
    "\n",
    "import generator\n",
    "import corpus\n",
    "import estimator\n",
    "\n",
    "import warnings\n",
    "\n",
    "warnings.filterwarnings('ignore')\n",
    "\n",
    "TRAINSET_PATH = \"./prepared_data/conll_trainset.npz\"\n",
    "TESTSETA_PATH = \"./prepared_data/conll_testseta.npz\"\n",
    "TESTSETB_PATH = \"./prepared_data/conll_testsetb.npz\""
   ]
  },
  {
   "cell_type": "code",
   "execution_count": 2,
   "metadata": {
    "collapsed": true
   },
   "outputs": [],
   "source": [
    "conll_trainset = corpus.ConllDataReader('./dataset',\n",
    "                                        fileids='eng.train.txt',\n",
    "                                        columntypes=('words', 'pos', 'chunk', 'ne'))\n",
    "\n",
    "conll_testseta = corpus.ConllDataReader('./dataset',\n",
    "                                        fileids='eng.testa.dev.txt',\n",
    "                                        columntypes=('words', 'pos', 'chunk', 'ne'))\n",
    "\n",
    "conll_testsetb = corpus.ConllDataReader('./dataset',\n",
    "                                        fileids='eng.testb.test.txt',\n",
    "                                        columntypes=('words', 'pos', 'chunk', 'ne'))"
   ]
  },
  {
   "cell_type": "code",
   "execution_count": 3,
   "metadata": {
    "collapsed": true
   },
   "outputs": [],
   "source": [
    "gen = generator.Generator(column_types=['WORD', 'POS', 'CHUNK'], context_len=2, language='en')\n",
    "\n",
    "Y_train = [el[1] for el in conll_trainset.get_ne()]\n",
    "Y_testa = [el[1] for el in conll_testseta.get_ne()]\n",
    "Y_testb = [el[1] for el in conll_testsetb.get_ne()]\n",
    "\n",
    "X_train = gen.fit_transform(conll_trainset.get_tags(tags=['words', 'pos', 'chunk']), Y_train, path=TRAINSET_PATH)\n",
    "X_testa = gen.transform(conll_testseta.get_tags(tags=['words', 'pos', 'chunk']), path=TESTSETA_PATH)\n",
    "X_testb = gen.transform(conll_testsetb.get_tags(tags=['words', 'pos', 'chunk']), path=TESTSETB_PATH)"
   ]
  },
  {
   "cell_type": "code",
   "execution_count": 4,
   "metadata": {
    "collapsed": true
   },
   "outputs": [],
   "source": [
    "class LabelEncoder:\n",
    "    def __init__(self):\n",
    "        self.data = {}\n",
    "        self.index = 0\n",
    "        \n",
    "    def get(self, label):\n",
    "        if label in self.data:\n",
    "            return self.data[label]\n",
    "        else:\n",
    "            self.data[label] = self.index\n",
    "            self.index += 1\n",
    "            return self.data[label]"
   ]
  },
  {
   "cell_type": "code",
   "execution_count": 7,
   "metadata": {
    "collapsed": true
   },
   "outputs": [],
   "source": [
    "def get_baseline_results(clf):\n",
    "    # делаем предсказание\n",
    "    clf.fit(X_train, Y_train)\n",
    "    y_preda = clf.predict(X_testa)\n",
    "\n",
    "    # преобразуем данные для оценки\n",
    "    label_encoder = LabelEncoder()\n",
    "    y_preda_sent = []\n",
    "    y_testa_sent = []\n",
    "\n",
    "    index = 0\n",
    "    for sent in conll_testsetb.sents():\n",
    "        length = len(sent)\n",
    "        y_preda_sent.append([label_encoder.get(el) for el in y_preda[index:index + length]])\n",
    "        y_testa_sent.append([label_encoder.get(el) for el in Y_testa[index:index + length]])\n",
    "        index += length\n",
    "\n",
    "    # производим оценку\n",
    "    F_arr = []\n",
    "    weight_arr = []\n",
    "\n",
    "    labels = [\"PER\", \"ORG\", \"LOC\", \"MISC\"]\n",
    "    for label in labels:\n",
    "        est = estimator.Estimator(y_preda_sent, y_testa_sent, label, labels, label_encoder)\n",
    "        F = est.compute_proper_f1()\n",
    "        F_arr.append(F)\n",
    "        weight = est.get_weight()\n",
    "        weight_arr.append(weight)\n",
    "        print(\"{} F1 = {}\".format(label, F))\n",
    "\n",
    "    TOTAL_F = sum([F * weight for F, weight in zip(F_arr, weight_arr)]) / sum(weight_arr)\n",
    "    print(\"TOTAL F1 = {}\".format(TOTAL_F))"
   ]
  },
  {
   "cell_type": "code",
   "execution_count": 8,
   "metadata": {},
   "outputs": [
    {
     "name": "stdout",
     "output_type": "stream",
     "text": [
      "PER F1 = 0.7737569873492203\n",
      "ORG F1 = 0.6463831108351444\n",
      "LOC F1 = 0.7710309930423782\n",
      "MISC F1 = 0.6930091185410334\n",
      "TOTAL F1 = 0.7248597749775896\n"
     ]
    }
   ],
   "source": [
    "get_baseline_results(LogisticRegression())"
   ]
  },
  {
   "cell_type": "code",
   "execution_count": 9,
   "metadata": {},
   "outputs": [
    {
     "name": "stdout",
     "output_type": "stream",
     "text": [
      "PER F1 = 0.6914673752583407\n",
      "ORG F1 = 0.5675182481751825\n",
      "LOC F1 = 0.6845844918134075\n",
      "MISC F1 = 0.5472868217054264\n",
      "TOTAL F1 = 0.6343784981969739\n"
     ]
    }
   ],
   "source": [
    "get_baseline_results(RandomForestClassifier())"
   ]
  },
  {
   "cell_type": "code",
   "execution_count": 10,
   "metadata": {},
   "outputs": [
    {
     "name": "stdout",
     "output_type": "stream",
     "text": [
      "PER F1 = 0.7715795654726952\n",
      "ORG F1 = 0.6255016980549553\n",
      "LOC F1 = 0.7621451104100946\n",
      "MISC F1 = 0.6725403817914831\n",
      "TOTAL F1 = 0.7128487186062856\n"
     ]
    }
   ],
   "source": [
    "get_baseline_results(LinearSVC())"
   ]
  },
  {
   "cell_type": "code",
   "execution_count": 12,
   "metadata": {},
   "outputs": [
    {
     "name": "stdout",
     "output_type": "stream",
     "text": [
      "PER F1 = 0.6666666666666667\n",
      "ORG F1 = 0.5640000000000001\n",
      "LOC F1 = 0.67871259175607\n",
      "MISC F1 = 0.6511254019292604\n",
      "TOTAL F1 = 0.6376600240997772\n"
     ]
    }
   ],
   "source": [
    "get_baseline_results(GradientBoostingClassifier())"
   ]
  }
 ],
 "metadata": {
  "kernelspec": {
   "display_name": "Python 3",
   "language": "python",
   "name": "python3"
  },
  "language_info": {
   "codemirror_mode": {
    "name": "ipython",
    "version": 3.0
   },
   "file_extension": ".py",
   "mimetype": "text/x-python",
   "name": "python",
   "nbconvert_exporter": "python",
   "pygments_lexer": "ipython3",
   "version": "3.6.1"
  }
 },
 "nbformat": 4,
 "nbformat_minor": 0
}