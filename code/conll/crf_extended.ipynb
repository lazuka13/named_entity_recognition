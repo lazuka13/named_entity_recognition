{
 "cells": [
  {
   "cell_type": "code",
   "execution_count": 1,
   "metadata": {},
   "outputs": [],
   "source": [
    "def word2features(sent, i):\n",
    "    word = sent[i][0]\n",
    "    postag = sent[i][1]\n",
    "\n",
    "    features = {\n",
    "        'bias': 1.0,\n",
    "        'word.lower()': word.lower(),\n",
    "        'word[-3:]': word[-3:],\n",
    "        'word[-2:]': word[-2:],\n",
    "        'word.isupper()': word.isupper(),\n",
    "        'word.istitle()': word.istitle(),\n",
    "        'word.isdigit()': word.isdigit(),\n",
    "        'postag': postag,\n",
    "        'postag[:2]': postag[:2],\n",
    "    }\n",
    "    if i > 0:\n",
    "        word1 = sent[i-1][0]\n",
    "        postag1 = sent[i-1][1]\n",
    "        features.update({\n",
    "            '-1:word.lower()': word1.lower(),\n",
    "            '-1:word.istitle()': word1.istitle(),\n",
    "            '-1:word.isupper()': word1.isupper(),\n",
    "            '-1:postag': postag1,\n",
    "            '-1:postag[:2]': postag1[:2],\n",
    "        })\n",
    "    else:\n",
    "        features['BOS'] = True\n",
    "\n",
    "    if i < len(sent)-1:\n",
    "        word1 = sent[i+1][0]\n",
    "        postag1 = sent[i+1][1]\n",
    "        features.update({\n",
    "            '+1:word.lower()': word1.lower(),\n",
    "            '+1:word.istitle()': word1.istitle(),\n",
    "            '+1:word.isupper()': word1.isupper(),\n",
    "            '+1:postag': postag1,\n",
    "            '+1:postag[:2]': postag1[:2],\n",
    "        })\n",
    "    else:\n",
    "        features['EOS'] = True\n",
    "\n",
    "    return features\n",
    "\n",
    "\n",
    "def sent2features(sent):\n",
    "    return [word2features(sent, i) for i in range(len(sent))]"
   ]
  },
  {
   "cell_type": "code",
   "execution_count": 2,
   "metadata": {},
   "outputs": [],
   "source": [
    "def add_history(docs):\n",
    "    for doc in docs:\n",
    "        all_tokens = []\n",
    "        for sent in doc:\n",
    "            all_tokens += sent\n",
    "        for i in range(0, len(all_tokens), 1):\n",
    "            for j in range(i - 1, max(0, i - 1000), -1):\n",
    "                if all_tokens[i]['word.lower()'] == all_tokens[j]['word.lower()']:\n",
    "                    all_tokens[i].update({key + '_history': value for key, value in all_tokens[j].items() if key != 'word.lower()'})\n",
    "                    break"
   ]
  },
  {
   "cell_type": "code",
   "execution_count": 3,
   "metadata": {},
   "outputs": [],
   "source": [
    "import reader\n",
    "import scorer\n",
    "import utils\n",
    "import classifiers.sequence_classifier as sc"
   ]
  },
  {
   "cell_type": "code",
   "execution_count": 4,
   "metadata": {},
   "outputs": [],
   "source": [
    "from itertools import chain\n",
    "from sklearn.model_selection import cross_val_score\n",
    "\n",
    "import nltk\n",
    "import sklearn\n",
    "import numpy as np\n",
    "\n",
    "import sklearn_crfsuite"
   ]
  },
  {
   "cell_type": "code",
   "execution_count": 5,
   "metadata": {},
   "outputs": [],
   "source": [
    "# Используем get_tags, потом разбиваем на предложения по размеру, потому что\n",
    "# иначе есть пустые предложения, что ломает работу системы\n",
    "\n",
    "dataset = reader.DataReader('./dataset', fileids='eng.train.txt', columntypes=('words', 'pos', 'chunk', 'ne'))\n",
    "y_train = [el[1] for el in dataset.get_ne()]\n",
    "x_train = dataset.get_tags(tags=['words', 'pos', 'chunk'])\n",
    "\n",
    "x_train_sent_b, y_train_sent = [], []\n",
    "index = 0\n",
    "for sent in dataset.sents():\n",
    "    length = len(sent)\n",
    "    if length == 0:\n",
    "        continue\n",
    "    x_train_sent_b.append(x_train[index:index + length])\n",
    "    y_train_sent.append(y_train[index:index + length])\n",
    "    index += length\n",
    "    \n",
    "x_train_sent = [sent2features(s) for s in x_train_sent_b]\n",
    "\n",
    "x_train_docs, y_train_docs = [], []\n",
    "index = 0\n",
    "for doc in dataset.docs():\n",
    "    length = len(doc)\n",
    "    if length == 0:\n",
    "        continue\n",
    "    x_train_docs.append(x_train_sent[index:index + length])\n",
    "    y_train_docs.append(y_train_sent[index:index + length])\n",
    "    index += length"
   ]
  },
  {
   "cell_type": "code",
   "execution_count": 6,
   "metadata": {},
   "outputs": [],
   "source": [
    "test_dataset = reader.DataReader('./dataset', fileids='eng.testa.dev.txt', columntypes=('words', 'pos', 'chunk', 'ne'))\n",
    "y_test = [el[1] for el in test_dataset.get_ne()]\n",
    "x_test = test_dataset.get_tags(tags=['words', 'pos', 'chunk'])\n",
    "x_test_sent_b, y_test_sent = [], []\n",
    "index = 0\n",
    "for sent in test_dataset.sents():\n",
    "    length = len(sent)\n",
    "    if length == 0:\n",
    "        continue\n",
    "    x_test_sent_b.append(x_test[index:index + length])\n",
    "    y_test_sent.append(y_test[index:index + length])\n",
    "    index += length\n",
    "    \n",
    "x_test_sent = [sent2features(s) for s in x_test_sent_b]\n",
    "\n",
    "x_test_docs, y_test_docs = [], []\n",
    "index = 0\n",
    "for doc in test_dataset.docs():\n",
    "    length = len(doc)\n",
    "    if length == 0:\n",
    "        continue\n",
    "    x_test_docs.append(x_test_sent[index:index + length])\n",
    "    y_test_docs.append(y_test_sent[index:index + length])\n",
    "    index += length"
   ]
  },
  {
   "cell_type": "code",
   "execution_count": 7,
   "metadata": {},
   "outputs": [
    {
     "name": "stdout",
     "output_type": "stream",
     "text": [
      "0.831364803184\n",
      "Wall time: 1min 31s\n"
     ]
    }
   ],
   "source": [
    "%%time\n",
    "crf = sc.SequenceClassifier(cls='CRF')\n",
    "print(np.mean(cross_val_score(crf, x_train_docs, y_train_docs)))"
   ]
  },
  {
   "cell_type": "code",
   "execution_count": 8,
   "metadata": {},
   "outputs": [
    {
     "name": "stdout",
     "output_type": "stream",
     "text": [
      "0.8715919085312225\n"
     ]
    }
   ],
   "source": [
    "crf.fit(x_train_docs, y_train_docs)\n",
    "print(crf.score(x_test_docs, y_test_docs))"
   ]
  },
  {
   "cell_type": "code",
   "execution_count": 9,
   "metadata": {},
   "outputs": [
    {
     "name": "stdout",
     "output_type": "stream",
     "text": [
      "0.845314726668\n",
      "Wall time: 4min 51s\n"
     ]
    }
   ],
   "source": [
    "%%time\n",
    "add_history(x_train_docs)\n",
    "crf = sc.SequenceClassifier(cls='CRF')\n",
    "print(np.mean(cross_val_score(crf, x_train_docs, y_train_docs)))"
   ]
  },
  {
   "cell_type": "code",
   "execution_count": 10,
   "metadata": {},
   "outputs": [
    {
     "name": "stdout",
     "output_type": "stream",
     "text": [
      "0.8835087719298246\n"
     ]
    }
   ],
   "source": [
    "add_history(x_test_docs)\n",
    "crf.fit(x_train_docs, y_train_docs)\n",
    "print(crf.score(x_test_docs, y_test_docs))"
   ]
  }
 ],
 "metadata": {
  "kernelspec": {
   "display_name": "Python 3",
   "language": "python",
   "name": "python3"
  },
  "language_info": {
   "codemirror_mode": {
    "name": "ipython",
    "version": 3
   },
   "file_extension": ".py",
   "mimetype": "text/x-python",
   "name": "python",
   "nbconvert_exporter": "python",
   "pygments_lexer": "ipython3",
   "version": "3.6.3"
  }
 },
 "nbformat": 4,
 "nbformat_minor": 2
}
