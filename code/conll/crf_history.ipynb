{
 "cells": [
  {
   "cell_type": "code",
   "execution_count": 16,
   "metadata": {},
   "outputs": [],
   "source": [
    "import reader\n",
    "import scorer\n",
    "import utils\n",
    "import classifiers.sequence_classifier as sc"
   ]
  },
  {
   "cell_type": "code",
   "execution_count": 17,
   "metadata": {},
   "outputs": [],
   "source": [
    "from itertools import chain\n",
    "from sklearn.model_selection import cross_val_score\n",
    "\n",
    "import nltk\n",
    "import sklearn\n",
    "import numpy as np\n",
    "\n",
    "import sklearn_crfsuite"
   ]
  },
  {
   "cell_type": "code",
   "execution_count": 18,
   "metadata": {},
   "outputs": [],
   "source": [
    "def word2features(sent, i):\n",
    "    word = sent[i][0]\n",
    "    postag = sent[i][1]\n",
    "\n",
    "    features = {\n",
    "        'bias': 1.0,\n",
    "        'word.lower()': word.lower(),\n",
    "        'word[-3:]': word[-3:],\n",
    "        'word[-2:]': word[-2:],\n",
    "        'word.isupper()': word.isupper(),\n",
    "        'word.istitle()': word.istitle(),\n",
    "        'word.isdigit()': word.isdigit(),\n",
    "        'postag': postag,\n",
    "        'postag[:2]': postag[:2],\n",
    "    }\n",
    "    if i > 0:\n",
    "        word1 = sent[i-1][0]\n",
    "        postag1 = sent[i-1][1]\n",
    "        features.update({\n",
    "            '-1:word.lower()': word1.lower(),\n",
    "            '-1:word.istitle()': word1.istitle(),\n",
    "            '-1:word.isupper()': word1.isupper(),\n",
    "            '-1:postag': postag1,\n",
    "            '-1:postag[:2]': postag1[:2],\n",
    "        })\n",
    "    else:\n",
    "        features['BOS'] = True\n",
    "\n",
    "    if i < len(sent)-1:\n",
    "        word1 = sent[i+1][0]\n",
    "        postag1 = sent[i+1][1]\n",
    "        features.update({\n",
    "            '+1:word.lower()': word1.lower(),\n",
    "            '+1:word.istitle()': word1.istitle(),\n",
    "            '+1:word.isupper()': word1.isupper(),\n",
    "            '+1:postag': postag1,\n",
    "            '+1:postag[:2]': postag1[:2],\n",
    "        })\n",
    "    else:\n",
    "        features['EOS'] = True\n",
    "\n",
    "    return features\n",
    "\n",
    "\n",
    "def sent2features(sent):\n",
    "    return [word2features(sent, i) for i in range(len(sent))]"
   ]
  },
  {
   "cell_type": "code",
   "execution_count": 19,
   "metadata": {},
   "outputs": [],
   "source": [
    "def add_history(docs):\n",
    "    for doc in docs:\n",
    "        all_tokens = []\n",
    "        for sent in doc:\n",
    "            all_tokens += sent\n",
    "        for i in range(0, len(all_tokens), 1):\n",
    "            for j in range(i - 1, max(0, i - 1000), -1):\n",
    "                if all_tokens[i]['word.lower()'] == all_tokens[j]['word.lower()']:\n",
    "                    all_tokens[i].update({key + '_history': value for key, value in all_tokens[j].items() if key != 'word.lower()'})\n",
    "                    break"
   ]
  },
  {
   "cell_type": "code",
   "execution_count": 20,
   "metadata": {},
   "outputs": [],
   "source": [
    "x_train_docs, y_train_docs = utils.docs_from_dataset('./dataset', 'eng.train.txt', \n",
    "                                         ('words', 'pos', 'chunk', 'ne'), ['words', 'pos', 'chunk'], sent2features)"
   ]
  },
  {
   "cell_type": "code",
   "execution_count": 21,
   "metadata": {},
   "outputs": [],
   "source": [
    "x_testa_docs, y_testa_docs = utils.docs_from_dataset('./dataset', 'eng.testa.dev.txt', \n",
    "                                         ('words', 'pos', 'chunk', 'ne'), ['words', 'pos', 'chunk'], sent2features)"
   ]
  },
  {
   "cell_type": "code",
   "execution_count": 22,
   "metadata": {},
   "outputs": [],
   "source": [
    "x_testb_docs, y_testb_docs = utils.docs_from_dataset('./dataset', 'eng.testb.test.txt', \n",
    "                                         ('words', 'pos', 'chunk', 'ne'), ['words', 'pos', 'chunk'], sent2features)"
   ]
  },
  {
   "cell_type": "code",
   "execution_count": 23,
   "metadata": {},
   "outputs": [
    {
     "name": "stdout",
     "output_type": "stream",
     "text": [
      "0.831364803184\n",
      "Wall time: 1min 21s\n"
     ]
    }
   ],
   "source": [
    "%%time\n",
    "crf = sc.SequenceClassifier(cls='CRF')\n",
    "print(np.mean(cross_val_score(crf, x_train_docs, y_train_docs)))"
   ]
  },
  {
   "cell_type": "code",
   "execution_count": 24,
   "metadata": {},
   "outputs": [
    {
     "name": "stdout",
     "output_type": "stream",
     "text": [
      "Wall time: 40.4 s\n"
     ]
    }
   ],
   "source": [
    "%%time\n",
    "crf = sc.SequenceClassifier(cls='CRF')\n",
    "crf.fit(x_train_docs, y_train_docs)"
   ]
  },
  {
   "cell_type": "code",
   "execution_count": 25,
   "metadata": {},
   "outputs": [
    {
     "name": "stdout",
     "output_type": "stream",
     "text": [
      "Результаты на TESTA\n",
      "label    precision    recall    f1-score\n",
      "\n",
      "PER      0.8943       0.8958    0.8951\n",
      "ORG      0.8357       0.7971    0.8160\n",
      "LOC      0.9154       0.8709    0.8926\n",
      "MISC     0.9041       0.8258    0.8632\n",
      "\n",
      "total    0.8889       0.8549    0.8716\n",
      "Wall time: 507 ms\n"
     ]
    }
   ],
   "source": [
    "%%time\n",
    "print('Результаты на TESTA')\n",
    "crf.get_full_score(x_testa_docs, y_testa_docs)"
   ]
  },
  {
   "cell_type": "code",
   "execution_count": 26,
   "metadata": {},
   "outputs": [
    {
     "name": "stdout",
     "output_type": "stream",
     "text": [
      "Результаты на TESTB\n",
      "label    precision    recall    f1-score\n",
      "\n",
      "PER      0.8286       0.8558    0.8419\n",
      "ORG      0.7588       0.7271    0.7426\n",
      "LOC      0.8599       0.8001    0.8290\n",
      "MISC     0.8342       0.7373    0.7827\n",
      "\n",
      "total    0.8174       0.7863    0.8015\n",
      "Wall time: 479 ms\n"
     ]
    }
   ],
   "source": [
    "%%time\n",
    "print('Результаты на TESTB')\n",
    "crf.get_full_score(x_testb_docs, y_testb_docs)"
   ]
  },
  {
   "cell_type": "code",
   "execution_count": 27,
   "metadata": {},
   "outputs": [
    {
     "name": "stdout",
     "output_type": "stream",
     "text": [
      "0.845314726668\n",
      "Wall time: 4min 10s\n"
     ]
    }
   ],
   "source": [
    "%%time\n",
    "add_history(x_train_docs)\n",
    "crf = sc.SequenceClassifier(cls='CRF')\n",
    "print(np.mean(cross_val_score(crf, x_train_docs, y_train_docs)))"
   ]
  },
  {
   "cell_type": "code",
   "execution_count": 28,
   "metadata": {},
   "outputs": [
    {
     "name": "stdout",
     "output_type": "stream",
     "text": [
      "Wall time: 1min 59s\n"
     ]
    }
   ],
   "source": [
    "%%time\n",
    "crf = sc.SequenceClassifier(cls='CRF')\n",
    "crf.fit(x_train_docs, y_train_docs)"
   ]
  },
  {
   "cell_type": "code",
   "execution_count": 29,
   "metadata": {},
   "outputs": [
    {
     "name": "stdout",
     "output_type": "stream",
     "text": [
      "Результаты на TESTA + HISTORY\n",
      "label    precision    recall    f1-score\n",
      "\n",
      "PER      0.9284       0.9320    0.9302\n",
      "ORG      0.8378       0.8092    0.8233\n",
      "LOC      0.9141       0.8737    0.8935\n",
      "MISC     0.8957       0.8202    0.8563\n",
      "\n",
      "total    0.8986       0.8689    0.8835\n",
      "Wall time: 4.47 s\n"
     ]
    }
   ],
   "source": [
    "%%time\n",
    "print('Результаты на TESTA + HISTORY')\n",
    "add_history(x_testa_docs)\n",
    "crf.get_full_score(x_testa_docs, y_testa_docs)"
   ]
  },
  {
   "cell_type": "code",
   "execution_count": 30,
   "metadata": {},
   "outputs": [
    {
     "name": "stdout",
     "output_type": "stream",
     "text": [
      "Результаты на TESTB + HISTORY\n",
      "label    precision    recall    f1-score\n",
      "\n",
      "PER      0.8537       0.8983    0.8754\n",
      "ORG      0.7746       0.7308    0.7521\n",
      "LOC      0.8577       0.8158    0.8362\n",
      "MISC     0.8424       0.7446    0.7904\n",
      "\n",
      "total    0.8306       0.8049    0.8176\n",
      "Wall time: 2.64 s\n"
     ]
    }
   ],
   "source": [
    "%%time\n",
    "print('Результаты на TESTB + HISTORY')\n",
    "add_history(x_testb_docs)\n",
    "crf.get_full_score(x_testb_docs, y_testb_docs)"
   ]
  },
  {
   "cell_type": "code",
   "execution_count": null,
   "metadata": {},
   "outputs": [],
   "source": []
  }
 ],
 "metadata": {
  "kernelspec": {
   "display_name": "Python 3",
   "language": "python",
   "name": "python3"
  },
  "language_info": {
   "codemirror_mode": {
    "name": "ipython",
    "version": 3
   },
   "file_extension": ".py",
   "mimetype": "text/x-python",
   "name": "python",
   "nbconvert_exporter": "python",
   "pygments_lexer": "ipython3",
   "version": "3.6.3"
  }
 },
 "nbformat": 4,
 "nbformat_minor": 2
}
