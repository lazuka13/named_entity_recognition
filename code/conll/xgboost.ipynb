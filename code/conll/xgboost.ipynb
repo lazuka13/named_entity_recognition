{
 "cells": [
  {
   "cell_type": "markdown",
   "metadata": {},
   "source": [
    "### XGBoost with optimal parameters from GridSearchCV on testb"
   ]
  },
  {
   "cell_type": "code",
   "execution_count": 1,
   "metadata": {},
   "outputs": [],
   "source": [
    "import features\n",
    "import reader\n",
    "import os\n",
    "\n",
    "from classifiers.token_classifier import TokenClassifier"
   ]
  },
  {
   "cell_type": "code",
   "execution_count": 2,
   "metadata": {},
   "outputs": [],
   "source": [
    "dataset_train = reader.DataReader('./dataset', fileids='eng.train.txt',\n",
    "                            columntypes=('words', 'pos', 'chunk', 'ne'))\n",
    "dataset_testb = reader.DataReader('./dataset', fileids='eng.testb.test.txt',\n",
    "                            columntypes=('words', 'pos', 'chunk', 'ne'))\n",
    "gen = features.Generator(columntypes=('words', 'pos', 'chunk'), context_len=2, language='en',\n",
    "                         rare_count=5, min_weight=0.95, rewrite=False, history=False)"
   ]
  },
  {
   "cell_type": "code",
   "execution_count": 3,
   "metadata": {},
   "outputs": [],
   "source": [
    "def docs_from_dataset_tokens(dataset, tags=['words', 'pos', 'chunk']):\n",
    "    y = [el[1] for el in dataset.get_ne()]\n",
    "    x = dataset.get_tags(tags=tags)\n",
    "    \n",
    "    x_sent, y_sent = [], []\n",
    "    index = 0\n",
    "    for sent in dataset.sents():\n",
    "        length = len(sent)\n",
    "        if length == 0:\n",
    "            continue\n",
    "        x_sent.append(x[index:index + length])\n",
    "        y_sent.append(y[index:index + length])\n",
    "        index += length\n",
    "    x_docs, y_docs = [], []\n",
    "    index = 0\n",
    "    for doc in dataset.docs():\n",
    "        length = len(doc)\n",
    "        if length == 0:\n",
    "            continue\n",
    "        x_docs.append(x_sent[index:index + length])\n",
    "        y_docs.append(y_sent[index:index + length])\n",
    "        index += length\n",
    "    return x_docs, y_docs\n",
    "\n",
    "def xdocs_from_x_dataset(x, dataset):\n",
    "    x_sent = []\n",
    "    index = 0\n",
    "    for sent in dataset.sents():\n",
    "        length = len(sent)\n",
    "        if length == 0:\n",
    "            continue\n",
    "        x_sent.append(x[index:index + length])\n",
    "        index += length\n",
    "    x_docs = []\n",
    "    index = 0\n",
    "    for doc in dataset.docs():\n",
    "        length = len(doc)\n",
    "        if length == 0:\n",
    "            continue\n",
    "        x_docs.append(x_sent[index:index + length])\n",
    "        index += length\n",
    "    return x_docs"
   ]
  },
  {
   "cell_type": "code",
   "execution_count": 4,
   "metadata": {},
   "outputs": [
    {
     "data": {
      "text/plain": [
       "TokenClassifier(base_score=0.5, booster='gbtree', cls='XGBClassifier',\n",
       "        colsample_bylevel=0.5, colsample_bytree=0.5, gamma=0,\n",
       "        learning_rate=0.3, max_delta_step=0, max_depth=14,\n",
       "        min_child_weight=1, missing=None, n_estimators=100, n_jobs=1,\n",
       "        nthread=None, objective='multi:softprob', random_state=0,\n",
       "        reg_alpha=0, reg_lambda=1, scale_pos_weight=1, seed=None,\n",
       "        silent=True, subsample=1)"
      ]
     },
     "execution_count": 4,
     "metadata": {},
     "output_type": "execute_result"
    }
   ],
   "source": [
    "x_docs_train, y_docs_train = docs_from_dataset_tokens(dataset_train)\n",
    "x_feat_train = gen.fit_generate(x_docs_train, y_docs_train, \"./prepared_data/conll_train.npz\")\n",
    "x_docs_feat_train = xdocs_from_x_dataset(x_feat_train, dataset_train)\n",
    "\n",
    "x_docs_testb, y_docs_testb = docs_from_dataset_tokens(dataset_testb)\n",
    "x_feat_testb = gen.generate(x_docs_testb, \"./prepared_data/conll_testb.npz\")\n",
    "x_docs_feat_testb = xdocs_from_x_dataset(x_feat_testb, dataset_testb)\n",
    "\n",
    "clf = TokenClassifier(cls='XGBClassifier', learning_rate=0.3, max_depth=14, colsample_bytree=0.5, colsample_bylevel=0.5)\n",
    "clf.fit(x_docs_feat_train, y_docs_train)"
   ]
  },
  {
   "cell_type": "code",
   "execution_count": 5,
   "metadata": {},
   "outputs": [
    {
     "name": "stdout",
     "output_type": "stream",
     "text": [
      "label    precision    recall    f1-score\n",
      "\n",
      "PER      0.7580       0.8352    0.7947\n",
      "ORG      0.6734       0.6994    0.6862\n",
      "LOC      0.8026       0.8227    0.8125\n",
      "MISC     0.7185       0.6778    0.6975\n",
      "\n",
      "total    0.7412       0.7713    0.7559\n"
     ]
    }
   ],
   "source": [
    "clf.get_full_score(x_docs_feat_testb, y_docs_testb)"
   ]
  }
 ],
 "metadata": {
  "kernelspec": {
   "display_name": "Python 3",
   "language": "python",
   "name": "python3"
  },
  "language_info": {
   "codemirror_mode": {
    "name": "ipython",
    "version": 3
   },
   "file_extension": ".py",
   "mimetype": "text/x-python",
   "name": "python",
   "nbconvert_exporter": "python",
   "pygments_lexer": "ipython3",
   "version": "3.6.3"
  }
 },
 "nbformat": 4,
 "nbformat_minor": 2
}
