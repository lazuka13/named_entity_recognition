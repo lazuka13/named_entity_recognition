{
 "cells": [
  {
   "cell_type": "code",
   "execution_count": 1,
   "metadata": {
    "collapsed": true
   },
   "outputs": [],
   "source": [
    "from corpus import ConllCorpusReaderX"
   ]
  },
  {
   "cell_type": "code",
   "execution_count": 2,
   "metadata": {
    "collapsed": true
   },
   "outputs": [],
   "source": [
    "factrueval_devset = ConllCorpusReaderX('./factrueval2016_dataset/', \n",
    "                              fileids='devset.txt', \n",
    "                              columntypes=['words', 'offset', 'len', 'ne'])\n",
    "\n",
    "factrueval_testset = ConllCorpusReaderX('./factrueval2016_dataset/', \n",
    "                              fileids='testset.txt', \n",
    "                              columntypes=['words', 'offset', 'len', 'ne'])"
   ]
  },
  {
   "cell_type": "code",
   "execution_count": 3,
   "metadata": {},
   "outputs": [
    {
     "name": "stdout",
     "output_type": "stream",
     "text": [
      "[('В', 'O', '0', '1'), ('понедельник', 'O', '2', '11'), ('28', 'O', '14', '2'), ('июня', 'O', '17', '4'), ('у', 'O', '22', '1'), ('здания', 'O', '24', '6'), ('мэрии', 'B-Org', '31', '5')]\n"
     ]
    }
   ],
   "source": [
    "print(factrueval_devset.get_tags(tags=['words', 'ne', 'offset', 'len'])[:7])"
   ]
  },
  {
   "cell_type": "code",
   "execution_count": 4,
   "metadata": {},
   "outputs": [
    {
     "name": "stdout",
     "output_type": "stream",
     "text": [
      "['В', 'понедельник', '28', 'июня', 'у', 'здания', ...]\n",
      "30940\n"
     ]
    }
   ],
   "source": [
    "print(factrueval_devset.words())\n",
    "print(len(factrueval_devset.words()))"
   ]
  },
  {
   "cell_type": "code",
   "execution_count": 5,
   "metadata": {},
   "outputs": [
    {
     "name": "stdout",
     "output_type": "stream",
     "text": [
      "[('В', 'O'), ('понедельник', 'O'), ('28', 'O'), ...]\n"
     ]
    }
   ],
   "source": [
    "print(factrueval_devset.get_ne())"
   ]
  }
 ],
 "metadata": {
  "kernelspec": {
   "display_name": "Python 3",
   "language": "python",
   "name": "python3"
  },
  "language_info": {
   "codemirror_mode": {
    "name": "ipython",
    "version": 3
   },
   "file_extension": ".py",
   "mimetype": "text/x-python",
   "name": "python",
   "nbconvert_exporter": "python",
   "pygments_lexer": "ipython3",
   "version": "3.6.1"
  }
 },
 "nbformat": 4,
 "nbformat_minor": 2
}
